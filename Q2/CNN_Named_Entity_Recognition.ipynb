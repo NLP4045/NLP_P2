{
  "nbformat": 4,
  "nbformat_minor": 0,
  "metadata": {
    "kernelspec": {
      "display_name": "Python 3",
      "language": "python",
      "name": "python3"
    },
    "language_info": {
      "codemirror_mode": {
        "name": "ipython",
        "version": 3
      },
      "file_extension": ".py",
      "mimetype": "text/x-python",
      "name": "python",
      "nbconvert_exporter": "python",
      "pygments_lexer": "ipython3",
      "version": "3.6.4"
    },
    "colab": {
      "name": "Copy of Named_Entity_Recognition-LSTM-CNN-CRF-Tutorial.ipynb",
      "provenance": [],
      "collapsed_sections": [],
      "toc_visible": true
    },
    "accelerator": "GPU"
  },
  "cells": [
    {
      "cell_type": "markdown",
      "metadata": {
        "id": "stys-4C-1Gdl"
      },
      "source": [
        "# End-to-end Sequence Labeling via Bi-directional LSTM-CNNs-CRF"
      ]
    },
    {
      "cell_type": "markdown",
      "metadata": {
        "id": "zo1JeHiT1Gdm"
      },
      "source": [
        "In this tutorial we will demonstrate how to implement a state of the art  Bi-directional LSTM-CNN-CRF architecture (Published at ACL'16. [Link To Paper](http://www.aclweb.org/anthology/P16-1101)) for Named Entity Recognition using Pytorch. \n",
        "\n",
        "The main aim of the tutorial is to make the audience comfortable with pytorch using this tutorial and give a step-by-step walk through of the Bi-LSTM-CNN-CRF architecture for NER. Some familiarity with pytorch (or any other deep learning framework) would definitely be a plus. \n",
        "\n",
        "The agenda of this tutorial is as follows:\n",
        "\n",
        "1. Getting Ready with the data \n",
        "2. Network Definition. This includes\n",
        "    * CNN Encoder for Character Level representation.\n",
        "    * Bi-directional LSTM for Word-Level Encoding.\n",
        "    * Conditional Random Fields(CRF) for output decoding\n",
        "3. Training \n",
        "4. Model testing\n",
        "\n",
        "This tutorial draws its content/design heavily from [this](https://github.com/ZhixiuYe/NER-pytorch) Github implementation of NER model. We reuse their data preprocessing/Model creation methodology. This helps in focussing more on explaining model architecture and it's translation from formulae to code. "
      ]
    },
    {
      "cell_type": "markdown",
      "metadata": {
        "id": "u8sLG0yR1Gdn"
      },
      "source": [
        "**Authors:**\n",
        "[**Anirudh Ganesh**](https://www.linkedin.com/in/anirudh-ganesh95/),\n",
        "[**Peddamail Jayavardhan Reddy**](https://www.linkedin.com/in/jayavardhan-reddy-peddamail-6b4125a0/)"
      ]
    },
    {
      "cell_type": "markdown",
      "metadata": {
        "id": "BCTb8oSO1Gdn"
      },
      "source": [
        "### Data Preparation\n",
        "\n",
        "The paper uses the English data from CoNLL 2003 shared task\\[1\\], which is present in the \"data\" directory of this project. We will later apply more preprocessing steps to generate tag mapping, word mapping and character  mapping. The data set contains four different types of named entities: PERSON, LOCATION, ORGANIZATION, and MISC and uses the BIO tagging scheme\n",
        "\n",
        "BIO tagging Scheme:\n",
        "\n",
        "    I - Word is inside a phrase of type TYPE\n",
        "    B - If two phrases of the same type immediately follow each other, the first word of the second phrase will have tag B-TYPE \n",
        "    O - Word is not part of a phrase\n",
        "    \n",
        "Example of English-NER sentence available in the data:\n",
        "    \n",
        "    U.N.         NNP  I-NP  I-ORG \n",
        "    official     NN   I-NP  O \n",
        "    Ekeus        NNP  I-NP  I-PER \n",
        "    heads        VBZ  I-VP  O \n",
        "    for          IN   I-PP  O \n",
        "    Baghdad      NNP  I-NP  I-LOC \n",
        "    .            .    O     O \n",
        "    \n",
        "Data Split(We use the same split as mentioned in paper):\n",
        "\n",
        "    Training Data - eng.train\n",
        "    Validation Data - eng.testa\n",
        "    Testing Data - eng.testb\n",
        "    \n",
        "\n",
        " To get started we first import the necessary libraries"
      ]
    },
    {
      "cell_type": "code",
      "metadata": {
        "id": "XOO8DyoO1SUf",
        "colab": {
          "base_uri": "https://localhost:8080/"
        },
        "outputId": "61f34219-beaa-4901-ad4b-5a879e747ffe"
      },
      "source": [
        "!mkdir data\n",
        "!curl https://raw.githubusercontent.com/jayavardhanr/End-to-end-Sequence-Labeling-via-Bi-directional-LSTM-CNNs-CRF-Tutorial/master/data/eng.testa > data/eng.testa\n",
        "!curl https://raw.githubusercontent.com/jayavardhanr/End-to-end-Sequence-Labeling-via-Bi-directional-LSTM-CNNs-CRF-Tutorial/master/data/eng.testb > data/eng.testb\n",
        "!curl https://raw.githubusercontent.com/jayavardhanr/End-to-end-Sequence-Labeling-via-Bi-directional-LSTM-CNNs-CRF-Tutorial/master/data/eng.train > data/eng.train\n",
        "\n",
        "!wget -P ./data/ \"http://nlp.stanford.edu/data/glove.6B.zip\"\n",
        "!unzip ./data/glove.6B.zip -d data/\n",
        "!rm ./data/glove.6B.zip"
      ],
      "execution_count": 1,
      "outputs": [
        {
          "output_type": "stream",
          "text": [
            "  % Total    % Received % Xferd  Average Speed   Time    Time     Time  Current\n",
            "                                 Dload  Upload   Total   Spent    Left  Speed\n",
            "100  807k  100  807k    0     0  2092k      0 --:--:-- --:--:-- --:--:-- 2092k\n",
            "  % Total    % Received % Xferd  Average Speed   Time    Time     Time  Current\n",
            "                                 Dload  Upload   Total   Spent    Left  Speed\n",
            "100  730k  100  730k    0     0  2155k      0 --:--:-- --:--:-- --:--:-- 2148k\n",
            "  % Total    % Received % Xferd  Average Speed   Time    Time     Time  Current\n",
            "                                 Dload  Upload   Total   Spent    Left  Speed\n",
            "100 3204k  100 3204k    0     0  3912k      0 --:--:-- --:--:-- --:--:-- 3908k\n",
            "--2020-11-25 07:14:20--  http://nlp.stanford.edu/data/glove.6B.zip\n",
            "Resolving nlp.stanford.edu (nlp.stanford.edu)... 171.64.67.140\n",
            "Connecting to nlp.stanford.edu (nlp.stanford.edu)|171.64.67.140|:80... connected.\n",
            "HTTP request sent, awaiting response... 302 Found\n",
            "Location: https://nlp.stanford.edu/data/glove.6B.zip [following]\n",
            "--2020-11-25 07:14:21--  https://nlp.stanford.edu/data/glove.6B.zip\n",
            "Connecting to nlp.stanford.edu (nlp.stanford.edu)|171.64.67.140|:443... connected.\n",
            "HTTP request sent, awaiting response... 301 Moved Permanently\n",
            "Location: http://downloads.cs.stanford.edu/nlp/data/glove.6B.zip [following]\n",
            "--2020-11-25 07:14:21--  http://downloads.cs.stanford.edu/nlp/data/glove.6B.zip\n",
            "Resolving downloads.cs.stanford.edu (downloads.cs.stanford.edu)... 171.64.64.22\n",
            "Connecting to downloads.cs.stanford.edu (downloads.cs.stanford.edu)|171.64.64.22|:80... connected.\n",
            "HTTP request sent, awaiting response... 200 OK\n",
            "Length: 862182613 (822M) [application/zip]\n",
            "Saving to: ‘./data/glove.6B.zip’\n",
            "\n",
            "glove.6B.zip        100%[===================>] 822.24M  2.18MB/s    in 6m 30s  \n",
            "\n",
            "2020-11-25 07:20:52 (2.11 MB/s) - ‘./data/glove.6B.zip’ saved [862182613/862182613]\n",
            "\n",
            "Archive:  ./data/glove.6B.zip\n",
            "  inflating: data/glove.6B.50d.txt   \n",
            "  inflating: data/glove.6B.100d.txt  \n",
            "  inflating: data/glove.6B.200d.txt  \n",
            "  inflating: data/glove.6B.300d.txt  \n"
          ],
          "name": "stdout"
        }
      ]
    },
    {
      "cell_type": "code",
      "metadata": {
        "id": "xJDsDPBH1Gdo"
      },
      "source": [
        "from __future__ import print_function\n",
        "from collections import OrderedDict\n",
        "\n",
        "import torch\n",
        "import torch.nn as nn\n",
        "from torch.nn import init\n",
        "from torch.autograd import Variable\n",
        "from torch import autograd\n",
        "\n",
        "import time\n",
        "import _pickle as cPickle\n",
        "\n",
        "import urllib\n",
        "import matplotlib.pyplot as plt\n",
        "plt.rcParams['figure.dpi'] = 80\n",
        "plt.style.use('seaborn-pastel')\n",
        "\n",
        "import os\n",
        "import sys\n",
        "import codecs\n",
        "import re\n",
        "import numpy as np"
      ],
      "execution_count": 2,
      "outputs": []
    },
    {
      "cell_type": "markdown",
      "metadata": {
        "id": "6hFXb4Ow1Gdr"
      },
      "source": [
        "##### Define constants and paramaters"
      ]
    },
    {
      "cell_type": "markdown",
      "metadata": {
        "id": "maK_eMLP1Gds"
      },
      "source": [
        "We now define some constants and parameters that we will be using later"
      ]
    },
    {
      "cell_type": "code",
      "metadata": {
        "id": "Unvn8fa81Gdt"
      },
      "source": [
        "#parameters for the Model\n",
        "parameters = OrderedDict()\n",
        "parameters['train'] = \"./data/eng.train\" #Path to train file\n",
        "parameters['dev'] = \"./data/eng.testa\" #Path to test file\n",
        "parameters['test'] = \"./data/eng.testb\" #Path to dev file\n",
        "parameters['tag_scheme'] = \"BIOES\" #BIO or BIOES\n",
        "parameters['lower'] = True # Boolean variable to control lowercasing of words\n",
        "parameters['zeros'] =  True # Boolean variable to control replacement of  all digits by 0 \n",
        "parameters['char_dim'] = 30 #Char embedding dimension\n",
        "parameters['word_dim'] = 100 #Token embedding dimension\n",
        "parameters['word_lstm_dim'] = 200 #Token LSTM hidden layer size\n",
        "parameters['word_bidirect'] = True #Use a bidirectional LSTM for words\n",
        "parameters['embedding_path'] = \"./data/glove.6B.100d.txt\" #Location of pretrained embeddings\n",
        "parameters['all_emb'] = 1 #Load all embeddings\n",
        "parameters['crf'] =1 #Use CRF (0 to disable)\n",
        "#parameters['dropout'] = 0.5 #Droupout on the input (0 = no dropout)\n",
        "parameters['dropout'] = 0.5 #Droupout on the input (0 = no dropout)\n",
        "\n",
        "\n",
        "parameters['epoch'] =  50 #Number of epochs to run\"\n",
        "parameters['weights'] = \"\" #path to Pretrained for from a previous run\n",
        "parameters['name'] = \"self-trained-model\" # Model name\n",
        "parameters['gradient_clip']=5.0\n",
        "parameters['char_mode']=\"CNN\"\n",
        "models_path = \"./models/\" #path to saved models\n",
        "\n",
        "#GPU\n",
        "parameters['use_gpu'] = torch.cuda.is_available() #GPU Check\n",
        "use_gpu = parameters['use_gpu']\n",
        "\n",
        "#parameters['reload'] = \"./models/pre-trained-model\" \n",
        "parameters['reload'] = False\n",
        "\n",
        "\n",
        "#Constants\n",
        "START_TAG = '<START>'\n",
        "STOP_TAG = '<STOP>'"
      ],
      "execution_count": 3,
      "outputs": []
    },
    {
      "cell_type": "code",
      "metadata": {
        "id": "iGYIISfW1Gdv"
      },
      "source": [
        "#paths to files \n",
        "#To stored mapping file\n",
        "mapping_file = './data/mapping.pkl'\n",
        "\n",
        "#To stored model\n",
        "name = parameters['name']\n",
        "model_name = models_path + name #get_name(parameters)\n",
        "\n",
        "if not os.path.exists(models_path):\n",
        "    os.makedirs(models_path)"
      ],
      "execution_count": 4,
      "outputs": []
    },
    {
      "cell_type": "markdown",
      "metadata": {
        "id": "zw_-ww_w1Gdx"
      },
      "source": [
        "##### Load data and preprocess"
      ]
    },
    {
      "cell_type": "markdown",
      "metadata": {
        "id": "nmJj7QDf1Gdy"
      },
      "source": [
        "Firstly, the data is loaded from the train, dev and test files into a list of sentences.\n",
        "\n",
        "Preprocessing:\n",
        "\n",
        "    * All the digits in the words are replaced by 0\n",
        "    \n",
        "Why this preprocessing step?\n",
        "    * For the Named Entity Recognition task, the information present in numerical digits doesnot help in predicting the entity. So, we replace all the digits by 0. So, now the model can concentrate on more important alphabets."
      ]
    },
    {
      "cell_type": "code",
      "metadata": {
        "id": "GvejSNAe1Gdy"
      },
      "source": [
        "def zero_digits(s):\n",
        "    \"\"\"\n",
        "    Replace every digit in a string by a zero.\n",
        "    \"\"\"\n",
        "    return re.sub('\\d', '0', s)\n",
        "\n",
        "def load_sentences(path, zeros):\n",
        "    \"\"\"\n",
        "    Load sentences. A line must contain at least a word and its tag.\n",
        "    Sentences are separated by empty lines.\n",
        "    \"\"\"\n",
        "    sentences = []\n",
        "    sentence = []\n",
        "    for line in codecs.open(path, 'r', 'utf8'):\n",
        "        line = zero_digits(line.rstrip()) if zeros else line.rstrip()\n",
        "        if not line:\n",
        "            if len(sentence) > 0:\n",
        "                if 'DOCSTART' not in sentence[0][0]:\n",
        "                    sentences.append(sentence)\n",
        "                sentence = []\n",
        "        else:\n",
        "            word = line.split()\n",
        "            assert len(word) >= 2\n",
        "            sentence.append(word)\n",
        "    if len(sentence) > 0:\n",
        "        if 'DOCSTART' not in sentence[0][0]:\n",
        "            sentences.append(sentence)\n",
        "    return sentences"
      ],
      "execution_count": 5,
      "outputs": []
    },
    {
      "cell_type": "code",
      "metadata": {
        "id": "yeX4nVsW1Gd0"
      },
      "source": [
        "train_sentences = load_sentences(parameters['train'], parameters['zeros'])\n",
        "test_sentences = load_sentences(parameters['test'], parameters['zeros'])\n",
        "dev_sentences = load_sentences(parameters['dev'], parameters['zeros'])"
      ],
      "execution_count": 6,
      "outputs": []
    },
    {
      "cell_type": "markdown",
      "metadata": {
        "id": "xcR7GoOM1Gd3"
      },
      "source": [
        "##### Update tagging scheme"
      ]
    },
    {
      "cell_type": "markdown",
      "metadata": {
        "id": "Ou7ON_W71Gd3"
      },
      "source": [
        "Different types of tagging schemes can be used for NER. We update the tags for train, test and dev data ( depending on the parameters \\[ tag_scheme \\] ).\n",
        "\n",
        "In the paper, the authors use the tagging Scheme ( BIOES ) rather than BIO (which is used by the dataset). So, we need to first update the data to convert tag scheme from BIO to BIOES.\n",
        "\n",
        "BIOES tagging scheme:\n",
        "\n",
        "    I - Word is inside a phrase of type TYPE\n",
        "    B - If two phrases of the same type immediately follow each other, the first word of the second phrase will have tag B-TYPE \n",
        "    O - Word is not part of a phrase\n",
        "    E - End ( E will not appear in a prefix-only partial match )\n",
        "    S - Single"
      ]
    },
    {
      "cell_type": "code",
      "metadata": {
        "id": "0Qmbrgb11Gd4"
      },
      "source": [
        "def iob2(tags):\n",
        "    \"\"\"\n",
        "    Check that tags have a valid BIO format.\n",
        "    Tags in BIO1 format are converted to BIO2.\n",
        "    \"\"\"\n",
        "    for i, tag in enumerate(tags):\n",
        "        if tag == 'O':\n",
        "            continue\n",
        "        split = tag.split('-')\n",
        "        if len(split) != 2 or split[0] not in ['I', 'B']:\n",
        "            return False\n",
        "        if split[0] == 'B':\n",
        "            continue\n",
        "        elif i == 0 or tags[i - 1] == 'O':  # conversion IOB1 to IOB2\n",
        "            tags[i] = 'B' + tag[1:]\n",
        "        elif tags[i - 1][1:] == tag[1:]:\n",
        "            continue\n",
        "        else:  # conversion IOB1 to IOB2\n",
        "            tags[i] = 'B' + tag[1:]\n",
        "    return True\n",
        "\n",
        "def iob_iobes(tags):\n",
        "    \"\"\"\n",
        "    the function is used to convert\n",
        "    BIO -> BIOES tagging\n",
        "    \"\"\"\n",
        "    new_tags = []\n",
        "    for i, tag in enumerate(tags):\n",
        "        if tag == 'O':\n",
        "            new_tags.append(tag)\n",
        "        elif tag.split('-')[0] == 'B':\n",
        "            if i + 1 != len(tags) and \\\n",
        "               tags[i + 1].split('-')[0] == 'I':\n",
        "                new_tags.append(tag)\n",
        "            else:\n",
        "                new_tags.append(tag.replace('B-', 'S-'))\n",
        "        elif tag.split('-')[0] == 'I':\n",
        "            if i + 1 < len(tags) and \\\n",
        "                    tags[i + 1].split('-')[0] == 'I':\n",
        "                new_tags.append(tag)\n",
        "            else:\n",
        "                new_tags.append(tag.replace('I-', 'E-'))\n",
        "        else:\n",
        "            raise Exception('Invalid IOB format!')\n",
        "    return new_tags\n",
        "\n",
        "def update_tag_scheme(sentences, tag_scheme):\n",
        "    \"\"\"\n",
        "    Check and update sentences tagging scheme to BIO2\n",
        "    Only BIO1 and BIO2 schemes are accepted for input data.\n",
        "    \"\"\"\n",
        "    for i, s in enumerate(sentences):\n",
        "        tags = [w[-1] for w in s]\n",
        "        # Check that tags are given in the BIO format\n",
        "        if not iob2(tags):\n",
        "            s_str = '\\n'.join(' '.join(w) for w in s)\n",
        "            raise Exception('Sentences should be given in BIO format! ' +\n",
        "                            'Please check sentence %i:\\n%s' % (i, s_str))\n",
        "        if tag_scheme == 'BIOES':\n",
        "            new_tags = iob_iobes(tags)\n",
        "            for word, new_tag in zip(s, new_tags):\n",
        "                word[-1] = new_tag\n",
        "        else:\n",
        "            raise Exception('Wrong tagging scheme!')"
      ],
      "execution_count": 7,
      "outputs": []
    },
    {
      "cell_type": "code",
      "metadata": {
        "id": "pDtn4juw1Gd6"
      },
      "source": [
        "update_tag_scheme(train_sentences, parameters['tag_scheme'])\n",
        "update_tag_scheme(dev_sentences, parameters['tag_scheme'])\n",
        "update_tag_scheme(test_sentences, parameters['tag_scheme'])"
      ],
      "execution_count": 8,
      "outputs": []
    },
    {
      "cell_type": "markdown",
      "metadata": {
        "id": "D9fXlWRN1Gd8"
      },
      "source": [
        "##### Create Mappings for Words, Characters and Tags"
      ]
    },
    {
      "cell_type": "markdown",
      "metadata": {
        "id": "DelEok8f1Gd9"
      },
      "source": [
        "After we have updated the tag scheme. We now have a list of sentences which are words along with their modified tags. Now, we want to map these individual words, tags and characters in each word, to unique numerical ID's so that each unique word, character and tag in the vocabulary is represented by a particular integer ID. To do this, we first create a functions that do these mapping for us"
      ]
    },
    {
      "cell_type": "markdown",
      "metadata": {
        "id": "E84yWJDt1Gd9"
      },
      "source": [
        "##### Why mapping is important?"
      ]
    },
    {
      "cell_type": "markdown",
      "metadata": {
        "id": "6F3-SLyN1Gd-"
      },
      "source": [
        "These indices for words, tags and characters help us employ matrix (tensor) operations inside the neural network architecture, which are considerably faster."
      ]
    },
    {
      "cell_type": "code",
      "metadata": {
        "id": "2A579YJc1Gd_"
      },
      "source": [
        "def create_dico(item_list):\n",
        "    \"\"\"\n",
        "    Create a dictionary of items from a list of list of items.\n",
        "    \"\"\"\n",
        "    assert type(item_list) is list\n",
        "    dico = {}\n",
        "    for items in item_list:\n",
        "        for item in items:\n",
        "            if item not in dico:\n",
        "                dico[item] = 1\n",
        "            else:\n",
        "                dico[item] += 1\n",
        "    return dico\n",
        "\n",
        "def create_mapping(dico):\n",
        "    \"\"\"\n",
        "    Create a mapping (item to ID / ID to item) from a dictionary.\n",
        "    Items are ordered by decreasing frequency.\n",
        "    \"\"\"\n",
        "    sorted_items = sorted(dico.items(), key=lambda x: (-x[1], x[0]))\n",
        "    id_to_item = {i: v[0] for i, v in enumerate(sorted_items)}\n",
        "    item_to_id = {v: k for k, v in id_to_item.items()}\n",
        "    return item_to_id, id_to_item\n",
        "\n",
        "def word_mapping(sentences, lower):\n",
        "    \"\"\"\n",
        "    Create a dictionary and a mapping of words, sorted by frequency.\n",
        "    \"\"\"\n",
        "    words = [[x[0].lower() if lower else x[0] for x in s] for s in sentences]\n",
        "    dico = create_dico(words)\n",
        "    dico['<UNK>'] = 10000000 #UNK tag for unknown words\n",
        "    word_to_id, id_to_word = create_mapping(dico)\n",
        "    print(\"Found %i unique words (%i in total)\" % (\n",
        "        len(dico), sum(len(x) for x in words)\n",
        "    ))\n",
        "    return dico, word_to_id, id_to_word\n",
        "\n",
        "def char_mapping(sentences):\n",
        "    \"\"\"\n",
        "    Create a dictionary and mapping of characters, sorted by frequency.\n",
        "    \"\"\"\n",
        "    chars = [\"\".join([w[0] for w in s]) for s in sentences]\n",
        "    dico = create_dico(chars)\n",
        "    char_to_id, id_to_char = create_mapping(dico)\n",
        "    print(\"Found %i unique characters\" % len(dico))\n",
        "    return dico, char_to_id, id_to_char\n",
        "\n",
        "def tag_mapping(sentences):\n",
        "    \"\"\"\n",
        "    Create a dictionary and a mapping of tags, sorted by frequency.\n",
        "    \"\"\"\n",
        "    tags = [[word[-1] for word in s] for s in sentences]\n",
        "    dico = create_dico(tags)\n",
        "    dico[START_TAG] = -1\n",
        "    dico[STOP_TAG] = -2\n",
        "    tag_to_id, id_to_tag = create_mapping(dico)\n",
        "    print(\"Found %i unique named entity tags\" % len(dico))\n",
        "    return dico, tag_to_id, id_to_tag"
      ],
      "execution_count": 9,
      "outputs": []
    },
    {
      "cell_type": "code",
      "metadata": {
        "id": "qufthE361GeB",
        "colab": {
          "base_uri": "https://localhost:8080/"
        },
        "outputId": "6dc5eea3-83e4-41cb-a8ad-01e72a77b632"
      },
      "source": [
        "dico_words,word_to_id,id_to_word = word_mapping(train_sentences, parameters['lower'])\n",
        "dico_chars, char_to_id, id_to_char = char_mapping(train_sentences)\n",
        "dico_tags, tag_to_id, id_to_tag = tag_mapping(train_sentences)"
      ],
      "execution_count": 10,
      "outputs": [
        {
          "output_type": "stream",
          "text": [
            "Found 17493 unique words (203621 in total)\n",
            "Found 75 unique characters\n",
            "Found 19 unique named entity tags\n"
          ],
          "name": "stdout"
        }
      ]
    },
    {
      "cell_type": "markdown",
      "metadata": {
        "id": "eXxBN7dP1GeF"
      },
      "source": [
        "##### Preparing final dataset"
      ]
    },
    {
      "cell_type": "markdown",
      "metadata": {
        "id": "EtLbvN7d1GeF"
      },
      "source": [
        "The function prepare dataset returns a list of dictionaries ( one dictionary per each sentence )\n",
        "\n",
        "Each of the dictionary returned by the function contains\n",
        "    1. list of all words in the sentence\n",
        "    2. list of word index for all words in the sentence\n",
        "    3. list of lists, containing character id of each character for words in the sentence\n",
        "    4. list of tag for each word in the sentence."
      ]
    },
    {
      "cell_type": "code",
      "metadata": {
        "id": "RO8KHbgv1GeF"
      },
      "source": [
        "def lower_case(x,lower=False):\n",
        "    if lower:\n",
        "        return x.lower()  \n",
        "    else:\n",
        "        return x"
      ],
      "execution_count": 11,
      "outputs": []
    },
    {
      "cell_type": "code",
      "metadata": {
        "id": "4HV8DOLy1GeI",
        "colab": {
          "base_uri": "https://localhost:8080/"
        },
        "outputId": "b12836ad-0320-4a79-c0fb-d016fc1832ab"
      },
      "source": [
        "def prepare_dataset(sentences, word_to_id, char_to_id, tag_to_id, lower=False):\n",
        "    \"\"\"\n",
        "    Prepare the dataset. Return a list of lists of dictionaries containing:\n",
        "        - word indexes\n",
        "        - word char indexes\n",
        "        - tag indexes\n",
        "    \"\"\"\n",
        "    data = []\n",
        "    for s in sentences:\n",
        "        str_words = [w[0] for w in s]\n",
        "        words = [word_to_id[lower_case(w,lower) if lower_case(w,lower) in word_to_id else '<UNK>']\n",
        "                 for w in str_words]\n",
        "        # Skip characters that are not in the training set\n",
        "        chars = [[char_to_id[c] for c in w if c in char_to_id]\n",
        "                 for w in str_words]\n",
        "        tags = [tag_to_id[w[-1]] for w in s]\n",
        "        data.append({\n",
        "            'str_words': str_words,\n",
        "            'words': words,\n",
        "            'chars': chars,\n",
        "            'tags': tags,\n",
        "        })\n",
        "    return data\n",
        "\n",
        "train_data = prepare_dataset(\n",
        "    train_sentences, word_to_id, char_to_id, tag_to_id, parameters['lower']\n",
        ")\n",
        "dev_data = prepare_dataset(\n",
        "    dev_sentences, word_to_id, char_to_id, tag_to_id, parameters['lower']\n",
        ")\n",
        "test_data = prepare_dataset(\n",
        "    test_sentences, word_to_id, char_to_id, tag_to_id, parameters['lower']\n",
        ")\n",
        "print(\"{} / {} / {} sentences in train / dev / test.\".format(len(train_data), len(dev_data), len(test_data)))"
      ],
      "execution_count": 12,
      "outputs": [
        {
          "output_type": "stream",
          "text": [
            "14041 / 3250 / 3453 sentences in train / dev / test.\n"
          ],
          "name": "stdout"
        }
      ]
    },
    {
      "cell_type": "markdown",
      "metadata": {
        "id": "uuKbYNsM1GeK"
      },
      "source": [
        "We are  done with the preprocessing step for input data. It ready to be given as input to the model ! ! !"
      ]
    },
    {
      "cell_type": "markdown",
      "metadata": {
        "id": "B4dHqivN1GeL"
      },
      "source": [
        "##### Load Word Embeddings\n",
        "\n",
        "Now, We move to the next step of loading the pre-trained word embeddings.\n",
        "\n",
        "The paper uses glove vectors 100 dimension vectors trained on the ( Wikipedia 2014 + Gigaword 5 ) corpus containing 6 Billion Words. The word embedding file ( glove.6B.100d.txt ) is placed in the data folder."
      ]
    },
    {
      "cell_type": "code",
      "metadata": {
        "id": "d8ghO3I61GeL",
        "colab": {
          "base_uri": "https://localhost:8080/"
        },
        "outputId": "1ccf8032-943a-4060-bb8f-b7ae6bd92761"
      },
      "source": [
        "all_word_embeds = {}\n",
        "for i, line in enumerate(codecs.open(parameters['embedding_path'], 'r', 'utf-8')):\n",
        "    s = line.strip().split()\n",
        "    if len(s) == parameters['word_dim'] + 1:\n",
        "        all_word_embeds[s[0]] = np.array([float(i) for i in s[1:]])\n",
        "\n",
        "#Intializing Word Embedding Matrix\n",
        "word_embeds = np.random.uniform(-np.sqrt(0.06), np.sqrt(0.06), (len(word_to_id), parameters['word_dim']))\n",
        "\n",
        "for w in word_to_id:\n",
        "    if w in all_word_embeds:\n",
        "        word_embeds[word_to_id[w]] = all_word_embeds[w]\n",
        "    elif w.lower() in all_word_embeds:\n",
        "        word_embeds[word_to_id[w]] = all_word_embeds[w.lower()]\n",
        "\n",
        "print('Loaded %i pretrained embeddings.' % len(all_word_embeds))"
      ],
      "execution_count": 13,
      "outputs": [
        {
          "output_type": "stream",
          "text": [
            "Loaded 400000 pretrained embeddings.\n"
          ],
          "name": "stdout"
        }
      ]
    },
    {
      "cell_type": "markdown",
      "metadata": {
        "id": "eKeNXjFD1GeN"
      },
      "source": [
        "##### Storing Processed Data for Reuse\n",
        "\n",
        "We can store the preprocessed data and the embedding matrix for future reuse. This helps us avoid the time taken by the step of preprocessing, when we are trying to tune the hyper parameters for the model."
      ]
    },
    {
      "cell_type": "code",
      "metadata": {
        "id": "qZmYhlhE1GeN",
        "colab": {
          "base_uri": "https://localhost:8080/"
        },
        "outputId": "fd3951dd-2082-412e-a035-5295bdfce243"
      },
      "source": [
        "with open(mapping_file, 'wb') as f:\n",
        "    mappings = {\n",
        "        'word_to_id': word_to_id,\n",
        "        'tag_to_id': tag_to_id,\n",
        "        'char_to_id': char_to_id,\n",
        "        'parameters': parameters,\n",
        "        'word_embeds': word_embeds\n",
        "    }\n",
        "    cPickle.dump(mappings, f)\n",
        "\n",
        "print('word_to_id: ', len(word_to_id))"
      ],
      "execution_count": 14,
      "outputs": [
        {
          "output_type": "stream",
          "text": [
            "word_to_id:  17493\n"
          ],
          "name": "stdout"
        }
      ]
    },
    {
      "cell_type": "markdown",
      "metadata": {
        "id": "rtPVdqf_1GeP"
      },
      "source": [
        "### Model\n"
      ]
    },
    {
      "cell_type": "markdown",
      "metadata": {
        "id": "kNNW_3S41GeQ"
      },
      "source": [
        "The model that we are presenting is a complicated one, since its a hybridized network using LSTMs and CNNs. So in order to break down the complexity, we have attempted to simplify the process by splitting up operations into individual functions that we can go over part by part. This hopefully makes the whole thing more easily digestable and gives a more intuitive understanding of the whole process."
      ]
    },
    {
      "cell_type": "markdown",
      "metadata": {
        "id": "6Wr4lE-81GeR"
      },
      "source": [
        "##### Initialization of weights"
      ]
    },
    {
      "cell_type": "markdown",
      "metadata": {
        "id": "7ztSKgHR1GeR"
      },
      "source": [
        "We start with the init_embedding function, which just initializes the embedding layer by pooling from a random sample. \n",
        "\n",
        "The distribution is pooled from $-\\sqrt{\\frac{3}{V}}$ to $+\\sqrt{\\frac{3}{V}}$ where $V$ is the embedding dimension size."
      ]
    },
    {
      "cell_type": "code",
      "metadata": {
        "id": "cpqyJhO41GeS"
      },
      "source": [
        "def init_embedding(input_embedding):\n",
        "    \"\"\"\n",
        "    Initialize embedding\n",
        "    \"\"\"\n",
        "    bias = np.sqrt(3.0 / input_embedding.size(1))\n",
        "    nn.init.uniform(input_embedding, -bias, bias)"
      ],
      "execution_count": 15,
      "outputs": []
    },
    {
      "cell_type": "markdown",
      "metadata": {
        "id": "cCw_hjku1GeU"
      },
      "source": [
        "Similar to the initialization above, except this is for the linear layer."
      ]
    },
    {
      "cell_type": "code",
      "metadata": {
        "id": "r09N_4-41GeU"
      },
      "source": [
        "def init_linear(input_linear):\n",
        "    \"\"\"\n",
        "    Initialize linear transformation\n",
        "    \"\"\"\n",
        "    bias = np.sqrt(6.0 / (input_linear.weight.size(0) + input_linear.weight.size(1)))\n",
        "    nn.init.uniform(input_linear.weight, -bias, bias)\n",
        "    if input_linear.bias is not None:\n",
        "        input_linear.bias.data.zero_()"
      ],
      "execution_count": 16,
      "outputs": []
    },
    {
      "cell_type": "markdown",
      "metadata": {
        "id": "xJHYJQdW1GeX"
      },
      "source": [
        "This is the initialization scheme for the LSTM layers. \n",
        "\n",
        "The LSTM layers are initialized by uniform sampling from $-\\sqrt{\\frac{6}{r+c}}$ to $+\\sqrt{\\frac{6}{r+c}}$. Where $r$ is the number of rows, $c$ is the number of columns (based on the shape of the weight matrix)."
      ]
    },
    {
      "cell_type": "code",
      "metadata": {
        "id": "X3D5UMrL1GeX"
      },
      "source": [
        "def init_lstm(input_lstm):\n",
        "    \"\"\"\n",
        "    Initialize lstm\n",
        "    \n",
        "    PyTorch weights parameters:\n",
        "    \n",
        "        weight_ih_l[k]: the learnable input-hidden weights of the k-th layer,\n",
        "            of shape `(hidden_size * input_size)` for `k = 0`. Otherwise, the shape is\n",
        "            `(hidden_size * hidden_size)`\n",
        "            \n",
        "        weight_hh_l[k]: the learnable hidden-hidden weights of the k-th layer,\n",
        "            of shape `(hidden_size * hidden_size)`            \n",
        "    \"\"\"\n",
        "    \n",
        "    # Weights init for forward layer\n",
        "    for ind in range(0, input_lstm.num_layers):\n",
        "        \n",
        "        ## Gets the weights Tensor from our model, for the input-hidden weights in our current layer\n",
        "        weight = eval('input_lstm.weight_ih_l' + str(ind))\n",
        "        \n",
        "        # Initialize the sampling range\n",
        "        sampling_range = np.sqrt(6.0 / (weight.size(0) / 4 + weight.size(1)))\n",
        "        \n",
        "        # Randomly sample from our samping range using uniform distribution and apply it to our current layer\n",
        "        nn.init.uniform(weight, -sampling_range, sampling_range)\n",
        "        \n",
        "        # Similar to above but for the hidden-hidden weights of the current layer\n",
        "        weight = eval('input_lstm.weight_hh_l' + str(ind))\n",
        "        sampling_range = np.sqrt(6.0 / (weight.size(0) / 4 + weight.size(1)))\n",
        "        nn.init.uniform(weight, -sampling_range, sampling_range)\n",
        "        \n",
        "        \n",
        "    # We do the above again, for the backward layer if we are using a bi-directional LSTM (our final model uses this)\n",
        "    if input_lstm.bidirectional:\n",
        "        for ind in range(0, input_lstm.num_layers):\n",
        "            weight = eval('input_lstm.weight_ih_l' + str(ind) + '_reverse')\n",
        "            sampling_range = np.sqrt(6.0 / (weight.size(0) / 4 + weight.size(1)))\n",
        "            nn.init.uniform(weight, -sampling_range, sampling_range)\n",
        "            weight = eval('input_lstm.weight_hh_l' + str(ind) + '_reverse')\n",
        "            sampling_range = np.sqrt(6.0 / (weight.size(0) / 4 + weight.size(1)))\n",
        "            nn.init.uniform(weight, -sampling_range, sampling_range)\n",
        "\n",
        "    # Bias initialization steps\n",
        "    \n",
        "    # We initialize them to zero except for the forget gate bias, which is initialized to 1\n",
        "    if input_lstm.bias:\n",
        "        for ind in range(0, input_lstm.num_layers):\n",
        "            bias = eval('input_lstm.bias_ih_l' + str(ind))\n",
        "            \n",
        "            # Initializing to zero\n",
        "            bias.data.zero_()\n",
        "            \n",
        "            # This is the range of indices for our forget gates for each LSTM cell\n",
        "            bias.data[input_lstm.hidden_size: 2 * input_lstm.hidden_size] = 1\n",
        "            \n",
        "            #Similar for the hidden-hidden layer\n",
        "            bias = eval('input_lstm.bias_hh_l' + str(ind))\n",
        "            bias.data.zero_()\n",
        "            bias.data[input_lstm.hidden_size: 2 * input_lstm.hidden_size] = 1\n",
        "            \n",
        "        # Similar to above, we do for backward layer if we are using a bi-directional LSTM \n",
        "        if input_lstm.bidirectional:\n",
        "            for ind in range(0, input_lstm.num_layers):\n",
        "                bias = eval('input_lstm.bias_ih_l' + str(ind) + '_reverse')\n",
        "                bias.data.zero_()\n",
        "                bias.data[input_lstm.hidden_size: 2 * input_lstm.hidden_size] = 1\n",
        "                bias = eval('input_lstm.bias_hh_l' + str(ind) + '_reverse')\n",
        "                bias.data.zero_()\n",
        "                bias.data[input_lstm.hidden_size: 2 * input_lstm.hidden_size] = 1"
      ],
      "execution_count": 17,
      "outputs": []
    },
    {
      "cell_type": "markdown",
      "metadata": {
        "id": "11ow5j5h1GeZ"
      },
      "source": [
        "##### CRF Layer\n",
        "\n",
        "We have two options: \n",
        "\n",
        "* softmax: normalize the scores into a vector such that can be interpreted as the probability that the word belongs to class. Eventually, the probability of a sequence of tag $y$ is the product of all tags.\n",
        "\n",
        "\n",
        "* linear-chain CRF: the first method makes local choices. In other words, even if we capture some information from the context thanks to the bi-LSTM, the tagging decision is still local. We don’t make use of the neighbooring tagging decisions. Given a sequence of words $w_1,…,w_m$, a sequence of score vectors $s_1,…,s_m$ and a sequence of tags $y_1,…,y_m$, a linear-chain CRF defines a global score $C \\in \\mathbb{R}$ such that\n",
        "\n",
        "$$% <![CDATA[\n",
        "\\begin{align*}\n",
        "C(y_1, \\ldots, y_m) &= b[y_1] &+ \\sum_{t=1}^{m} s_t [y_t] &+ \\sum_{t=1}^{m-1} T[y_{t}, y_{t+1}] &+ e[y_m]\\\\\n",
        "                    &= \\text{begin} &+ \\text{scores} &+ \\text{transitions} &+ \\text{end}\n",
        "\\end{align*} %]]>$$\n",
        "\n",
        "where $T$ is a transition matrix in $R^{9×9}$ and $e,b \\in R^9$ are vectors of scores that capture the cost of beginning or ending with a given tag. The use of the matrix $T$ captures linear (one step) dependencies between tagging decisions.\n",
        "\n",
        "The motivation behind CRFs was to generate sentence level likelihoods for optimal tags. What that means is for each word we estimate maximum likelihood and then we use the Viterbi algorithm to decode the tag sequence optimally.\n",
        "\n",
        "\n",
        "**Advantages of CRF over Softmax:**\n",
        "* Softmax doesn't value any dependencies, this is a problem since NER the context heavily influences the tag that is assigned. This is solved by applying CRF as it takes into account the full sequence to assign the tag. \n",
        "* *Example: I-ORG cannot directly follow I-PER.*\n",
        "\n",
        "<img src = \"https://github.com/TheAnig/NER-LSTM-CNN-Pytorch/raw/master/images/crf_mode.png\"></img>\n",
        "<a href=\"https://arxiv.org/pdf/1508.01991.pdf\">(Image Source)</a>\n",
        "\n",
        "The figure shows a simple CRF network, in our case we have the inputs feeding in from our BiLSTMs, but otherwise the structure largely remains the same."
      ]
    },
    {
      "cell_type": "markdown",
      "metadata": {
        "id": "eZ_MtrWt1GeZ"
      },
      "source": [
        "##### Evaluation schemes: Forward pass and Viterbi algorithm"
      ]
    },
    {
      "cell_type": "markdown",
      "metadata": {
        "id": "ilmh4jWM1Gea"
      },
      "source": [
        "Recall that the CRF computes a conditional probability. Let $y$ be a tag sequence and $x$ an input sequence of words. Then we compute\n",
        "\n",
        "$$P(y|x) = \\frac{\\exp{(\\text{Score}(x, y)})}{\\sum_{y'} \\exp{(\\text{Score}(x, y')})}$$\n",
        "\n",
        "Where the score is determined by defining some log potentials $\\log \\psi_i(x,y)$ such that\n",
        "\n",
        "$$\\text{Score}(x,y) = \\sum_i \\log \\psi_i(x,y)$$\n",
        "\n",
        "In our model, we define two kinds of potentials: emission and transition. The emission potential for the word at index $i$ comes from the hidden state of the Bi-LSTM at timestep $i$. The transition scores are stored in a $|T|x|T|$ matrix $P$, where $T$ is the tag set. In my implementation, $P_{j,k}$ is the score of transitioning to tag $j$ from tag $k$. So:\n",
        "\n",
        "$$\\text{Score}(x,y) = \\sum_i \\log \\psi_\\text{EMIT}(y_i \\rightarrow x_i) + \\log \\psi_\\text{TRANS}(y_{i-1} \\rightarrow y_i)$$\n",
        "$$= \\sum_i h_i[y_i] + \\textbf{P}_{y_i, y_{i-1}}$$"
      ]
    },
    {
      "cell_type": "markdown",
      "metadata": {
        "id": "o52Xr-rk1Gea"
      },
      "source": [
        "##### Helper Functions"
      ]
    },
    {
      "cell_type": "markdown",
      "metadata": {
        "id": "L8hTab5_1Gea"
      },
      "source": [
        "Now, we define some helper functions for numerical operations and score calculations"
      ]
    },
    {
      "cell_type": "code",
      "metadata": {
        "id": "sTeTzX3S1Geb"
      },
      "source": [
        "def log_sum_exp(vec):\n",
        "    '''\n",
        "    This function calculates the score explained above for the forward algorithm\n",
        "    vec 2D: 1 * tagset_size\n",
        "    '''\n",
        "    max_score = vec[0, argmax(vec)]\n",
        "    max_score_broadcast = max_score.view(1, -1).expand(1, vec.size()[1])\n",
        "    return max_score + torch.log(torch.sum(torch.exp(vec - max_score_broadcast)))\n",
        "    \n",
        "def argmax(vec):\n",
        "    '''\n",
        "    This function returns the max index in a vector\n",
        "    '''\n",
        "    _, idx = torch.max(vec, 1)\n",
        "    return to_scalar(idx)\n",
        "\n",
        "def to_scalar(var):\n",
        "    '''\n",
        "    Function to convert pytorch tensor to a scalar\n",
        "    '''\n",
        "    return var.view(-1).data.tolist()[0]"
      ],
      "execution_count": 18,
      "outputs": []
    },
    {
      "cell_type": "markdown",
      "metadata": {
        "id": "qKH3ceqN1Gee"
      },
      "source": [
        "##### Helper function to calculate score\n",
        "\n",
        "This is a score function for our sentences. \n",
        "\n",
        "This function takes two things, a list of ground truths that tell us what the corresponding tags are, the other are the features which contains the supposed tagged parts of the function. Which is then used to compute the score."
      ]
    },
    {
      "cell_type": "code",
      "metadata": {
        "id": "zGUGFZ2p1Gef"
      },
      "source": [
        "def score_sentences(self, feats, tags):\n",
        "    # tags is ground_truth, a list of ints, length is len(sentence)\n",
        "    # feats is a 2D tensor, len(sentence) * tagset_size\n",
        "    r = torch.LongTensor(range(feats.size()[0]))\n",
        "    if self.use_gpu:\n",
        "        r = r.cuda()\n",
        "        pad_start_tags = torch.cat([torch.cuda.LongTensor([self.tag_to_ix[START_TAG]]), tags])\n",
        "        pad_stop_tags = torch.cat([tags, torch.cuda.LongTensor([self.tag_to_ix[STOP_TAG]])])\n",
        "    else:\n",
        "        pad_start_tags = torch.cat([torch.LongTensor([self.tag_to_ix[START_TAG]]), tags])\n",
        "        pad_stop_tags = torch.cat([tags, torch.LongTensor([self.tag_to_ix[STOP_TAG]])])\n",
        "\n",
        "    score = torch.sum(self.transitions[pad_stop_tags, pad_start_tags]) + torch.sum(feats[r, tags])\n",
        "\n",
        "    return score"
      ],
      "execution_count": 19,
      "outputs": []
    },
    {
      "cell_type": "markdown",
      "metadata": {
        "id": "Z6E7Yonb1Gei"
      },
      "source": [
        "##### Implementation of Forward Algorithm"
      ]
    },
    {
      "cell_type": "code",
      "metadata": {
        "id": "AlGb9Q6n1Gei"
      },
      "source": [
        "def forward_alg(self, feats):\n",
        "    '''\n",
        "    This function performs the forward algorithm explained above\n",
        "    '''\n",
        "    # calculate in log domain\n",
        "    # feats is len(sentence) * tagset_size\n",
        "    # initialize alpha with a Tensor with values all equal to -10000.\n",
        "    \n",
        "    # Do the forward algorithm to compute the partition function\n",
        "    init_alphas = torch.Tensor(1, self.tagset_size).fill_(-10000.)\n",
        "    \n",
        "    # START_TAG has all of the score.\n",
        "    init_alphas[0][self.tag_to_ix[START_TAG]] = 0.\n",
        "    \n",
        "    # Wrap in a variable so that we will get automatic backprop\n",
        "    forward_var = autograd.Variable(init_alphas)\n",
        "    if self.use_gpu:\n",
        "        forward_var = forward_var.cuda()\n",
        "        \n",
        "    # Iterate through the sentence\n",
        "    for feat in feats:\n",
        "        # broadcast the emission score: it is the same regardless of\n",
        "        # the previous tag\n",
        "        emit_score = feat.view(-1, 1)\n",
        "        \n",
        "        # the ith entry of trans_score is the score of transitioning to\n",
        "        # next_tag from i\n",
        "        tag_var = forward_var + self.transitions + emit_score\n",
        "        \n",
        "        # The ith entry of next_tag_var is the value for the\n",
        "        # edge (i -> next_tag) before we do log-sum-exp\n",
        "        max_tag_var, _ = torch.max(tag_var, dim=1)\n",
        "        \n",
        "        # The forward variable for this tag is log-sum-exp of all the\n",
        "        # scores.\n",
        "        tag_var = tag_var - max_tag_var.view(-1, 1)\n",
        "        \n",
        "        # Compute log sum exp in a numerically stable way for the forward algorithm\n",
        "        forward_var = max_tag_var + torch.log(torch.sum(torch.exp(tag_var), dim=1)).view(1, -1) # ).view(1, -1)\n",
        "    terminal_var = (forward_var + self.transitions[self.tag_to_ix[STOP_TAG]]).view(1, -1)\n",
        "    alpha = log_sum_exp(terminal_var)\n",
        "    # Z(x)\n",
        "    return alpha"
      ],
      "execution_count": 20,
      "outputs": []
    },
    {
      "cell_type": "markdown",
      "metadata": {
        "id": "i-H4ssRo1Geo"
      },
      "source": [
        "##### Viterbi decode"
      ]
    },
    {
      "cell_type": "markdown",
      "metadata": {
        "id": "2sbZS2C21Gep"
      },
      "source": [
        "Viterbi decode is basically applying dynamic programming to choosing our tag sequence. Let’s suppose that we have the solution $\\tilde{s}_{t+1} (y^{t+1})$ for time steps $t + 1, ...., m$ for sequences that start with $y^{t+1}$ for each of the possible $y^{t+1}$. Then the solution $\\tilde{s}_t(y_t)$ for time steps $t, ..., m$ that starts with $y_t$ verifies \n",
        "\n",
        "$$ % <![CDATA[\n",
        "\\begin{align*}\n",
        "\\tilde{s}_t(y_t) &= \\operatorname{argmax}_{y_t, \\ldots, y_m} C(y_t, \\ldots, y_m)\\\\\n",
        "            &= \\operatorname{argmax}_{y_{t+1}} s_t [y_t] + T[y_{t}, y_{t+1}] + \\tilde{s}_{t+1}(y^{t+1})\n",
        "\\end{align*} %]]>$$\n",
        "\n",
        "Then, we can easily define the probability of a given sequence of tags as\n",
        "\n",
        "$$ \\mathbb{P}(y_1, \\ldots, y_m) = \\frac{e^{C(y_1, \\ldots, y_m)}}{Z} $$"
      ]
    },
    {
      "cell_type": "markdown",
      "metadata": {
        "id": "PBCPwffr1Geq"
      },
      "source": [
        "##### Implementation of Viterbi Algorithm"
      ]
    },
    {
      "cell_type": "code",
      "metadata": {
        "id": "E1QuIO241Ger"
      },
      "source": [
        "def viterbi_algo(self, feats):\n",
        "    '''\n",
        "    In this function, we implement the viterbi algorithm explained above.\n",
        "    A Dynamic programming based approach to find the best tag sequence\n",
        "    '''\n",
        "    backpointers = []\n",
        "    # analogous to forward\n",
        "    \n",
        "    # Initialize the viterbi variables in log space\n",
        "    init_vvars = torch.Tensor(1, self.tagset_size).fill_(-10000.)\n",
        "    init_vvars[0][self.tag_to_ix[START_TAG]] = 0\n",
        "    \n",
        "    # forward_var at step i holds the viterbi variables for step i-1\n",
        "    forward_var = Variable(init_vvars)\n",
        "    if self.use_gpu:\n",
        "        forward_var = forward_var.cuda()\n",
        "    for feat in feats:\n",
        "        next_tag_var = forward_var.view(1, -1).expand(self.tagset_size, self.tagset_size) + self.transitions\n",
        "        _, bptrs_t = torch.max(next_tag_var, dim=1)\n",
        "        bptrs_t = bptrs_t.squeeze().data.cpu().numpy() # holds the backpointers for this step\n",
        "        next_tag_var = next_tag_var.data.cpu().numpy() \n",
        "        viterbivars_t = next_tag_var[range(len(bptrs_t)), bptrs_t] # holds the viterbi variables for this step\n",
        "        viterbivars_t = Variable(torch.FloatTensor(viterbivars_t))\n",
        "        if self.use_gpu:\n",
        "            viterbivars_t = viterbivars_t.cuda()\n",
        "            \n",
        "        # Now add in the emission scores, and assign forward_var to the set\n",
        "        # of viterbi variables we just computed\n",
        "        forward_var = viterbivars_t + feat\n",
        "        backpointers.append(bptrs_t)\n",
        "\n",
        "    # Transition to STOP_TAG\n",
        "    terminal_var = forward_var + self.transitions[self.tag_to_ix[STOP_TAG]]\n",
        "    terminal_var.data[self.tag_to_ix[STOP_TAG]] = -10000.\n",
        "    terminal_var.data[self.tag_to_ix[START_TAG]] = -10000.\n",
        "    best_tag_id = argmax(terminal_var.unsqueeze(0))\n",
        "    path_score = terminal_var[best_tag_id]\n",
        "    \n",
        "    # Follow the back pointers to decode the best path.\n",
        "    best_path = [best_tag_id]\n",
        "    for bptrs_t in reversed(backpointers):\n",
        "        best_tag_id = bptrs_t[best_tag_id]\n",
        "        best_path.append(best_tag_id)\n",
        "        \n",
        "    # Pop off the start tag (we dont want to return that to the caller)\n",
        "    start = best_path.pop()\n",
        "    assert start == self.tag_to_ix[START_TAG] # Sanity check\n",
        "    best_path.reverse()\n",
        "    return path_score, best_path"
      ],
      "execution_count": 21,
      "outputs": []
    },
    {
      "cell_type": "code",
      "metadata": {
        "id": "rjjKQkvW1Get"
      },
      "source": [
        "def forward_calc(self, sentence, chars, chars2_length, d):\n",
        "    \n",
        "    '''\n",
        "    The function calls viterbi decode and generates the \n",
        "    most probable sequence of tags for the sentence\n",
        "    '''\n",
        "    \n",
        "    # Get the emission scores from the BiLSTM\n",
        "    feats = self._get_cnn_features(sentence, chars, chars2_length, d)\n",
        "    # viterbi to get tag_seq\n",
        "    \n",
        "    # Find the best path, given the features.\n",
        "    if self.use_crf:\n",
        "        score, tag_seq = self.viterbi_decode(feats)\n",
        "    else:\n",
        "        score, tag_seq = torch.max(feats, 1)\n",
        "        tag_seq = list(tag_seq.cpu().data)\n",
        "\n",
        "    return score, tag_seq"
      ],
      "execution_count": 22,
      "outputs": []
    },
    {
      "cell_type": "markdown",
      "metadata": {
        "id": "QaoNyQDS1Gev"
      },
      "source": [
        "### Details fo the Model"
      ]
    },
    {
      "cell_type": "markdown",
      "metadata": {
        "id": "QXy6iL5U1Gev"
      },
      "source": [
        "##### 1. CNN model for generating character embeddings\n",
        "\n",
        "\n",
        "Consider the word 'cat', we pad it on both ends to get our maximum word length ( this is mainly an implementation quirk since we can't have variable length layers at run time, our algorithm will ignore the pads).\n",
        "\n",
        "We then apply a convolution layer on top that generates spatial coherence across characters, we use a maxpool to extract meaningful features out of our convolution layer. This now gives us a dense vector representation of each word. This representation will be concatenated with the pre-trained GloVe embeddings using a simple lookup.\n",
        "\n",
        "\n",
        "<img src = \"https://github.com/TheAnig/NER-LSTM-CNN-Pytorch/raw/master/images/cnn_model.png\"></img>\n",
        "<a href=\"http://www.aclweb.org/anthology/P16-1101\">Image Source</a>\n",
        "\n",
        "\n",
        "This snippet shows us how the CNN is implemented in pytorch\n",
        "\n",
        "`self.char_cnn3 = nn.Conv2d(in_channels=1, out_channels=self.out_channels, kernel_size=(3, char_embedding_dim), padding=(2,0))`\n",
        "\n",
        "##### 2. Rest of the model (LSTM based) that generates tags for the given sequence\n",
        "\n",
        "The word-embeddings( glove+char embedding ) that we generated above, we feed to a bi-directional LSTM model. The LSTM model has 2 layers, \n",
        "* The forward layer takes in a sequence of word vectors and generates a new vector based on what it has seen so far in the forward direction (starting from the start word up until current word) this vector can be thought of as a summary of all the words it has seen. \n",
        "\n",
        "* The backwards layer does the same but in opposite direction, i.e., from the end of the sentence to the current word.\n",
        "\n",
        "The forward vector and the backwards vector at current word concatanate to generate a unified representation.\n",
        "\n",
        "<img src = \"https://github.com/TheAnig/NER-LSTM-CNN-Pytorch/raw/master/images/lstm_model.png\"></img>\n",
        "<a href=\"http://www.aclweb.org/anthology/P16-1101\">Image Source</a>\n",
        "\n",
        "This snippet shows us how the BiLSTM is implemented in pytorch\n",
        "\n",
        "`self.lstm = nn.LSTM(embedding_dim+self.out_channels, hidden_dim, bidirectional=True)`\n",
        "\n",
        "Finally, we have a linear layer to map hidden vectors to tag space."
      ]
    },
    {
      "cell_type": "markdown",
      "metadata": {
        "id": "fiVABiqo1Gew"
      },
      "source": [
        "##### Main Model Implementation"
      ]
    },
    {
      "cell_type": "markdown",
      "metadata": {
        "id": "RWf1gu521Gew"
      },
      "source": [
        "The get_lstm_features function returns the LSTM's tag vectors. The function performs all the steps mentioned above for the model.\n",
        "\n",
        "Steps:\n",
        "1. It takes in characters, converts them to embeddings using our character CNN.\n",
        "2. We concat Character Embeeding with glove vectors, use this as features that we feed to Bidirectional-LSTM. \n",
        "3. The Bidirectional-LSTM generates outputs based on these set of features.\n",
        "4. The output are passed through a linear layer to convert to tag space."
      ]
    },
    {
      "cell_type": "code",
      "metadata": {
        "id": "0-zJBhjvpRZU"
      },
      "source": [
        "WORD_CNN_LAYERS=2"
      ],
      "execution_count": 23,
      "outputs": []
    },
    {
      "cell_type": "code",
      "metadata": {
        "id": "aBsDsqW21Gex",
        "cellView": "form"
      },
      "source": [
        "#@title\n",
        "# def get_lstm_features(self, sentence, chars2, chars2_length, d):\n",
        "    \n",
        "#     if self.char_mode == 'LSTM':\n",
        "        \n",
        "#             chars_embeds = self.char_embeds(chars2).transpose(0, 1)\n",
        "            \n",
        "#             packed = torch.nn.utils.rnn.pack_padded_sequence(chars_embeds, chars2_length)\n",
        "            \n",
        "#             lstm_out, _ = self.char_lstm(packed)\n",
        "            \n",
        "#             outputs, output_lengths = torch.nn.utils.rnn.pad_packed_sequence(lstm_out)\n",
        "            \n",
        "#             outputs = outputs.transpose(0, 1)\n",
        "            \n",
        "#             chars_embeds_temp = Variable(torch.FloatTensor(torch.zeros((outputs.size(0), outputs.size(2)))))\n",
        "            \n",
        "#             if self.use_gpu:\n",
        "#                 chars_embeds_temp = chars_embeds_temp.cuda()\n",
        "            \n",
        "#             for i, index in enumerate(output_lengths):\n",
        "#                 chars_embeds_temp[i] = torch.cat((outputs[i, index-1, :self.char_lstm_dim], outputs[i, 0, self.char_lstm_dim:]))\n",
        "            \n",
        "#             chars_embeds = chars_embeds_temp.clone()\n",
        "            \n",
        "#             for i in range(chars_embeds.size(0)):\n",
        "#                 chars_embeds[d[i]] = chars_embeds_temp[i]\n",
        "    \n",
        "    \n",
        "#     if self.char_mode == 'CNN':\n",
        "#         chars_embeds = self.char_embeds(chars2).unsqueeze(1)\n",
        "\n",
        "#         ## Creating Character level representation using Convolutional Neural Netowrk\n",
        "#         ## followed by a Maxpooling Layer\n",
        "#         chars_cnn_out3 = self.char_cnn3(chars_embeds)\n",
        "#         chars_embeds = nn.functional.max_pool2d(chars_cnn_out3,\n",
        "#                                              kernel_size=(chars_cnn_out3.size(2), 1)).view(chars_cnn_out3.size(0), self.out_channels)\n",
        "\n",
        "#         ## Loading word embeddings\n",
        "#     embeds = self.word_embeds(sentence)\n",
        "\n",
        "#     ## We concatenate the word embeddings and the character level representation\n",
        "#     ## to create unified representation for each word\n",
        "#     embeds = torch.cat((embeds, chars_embeds), 1)\n",
        "\n",
        "#     embeds = embeds.unsqueeze(1)\n",
        "\n",
        "#     ## Dropout on the unified embeddings\n",
        "#     embeds = self.dropout(embeds)\n",
        "\n",
        "#     ## Word lstm\n",
        "#     ## Takes words as input and generates a output at each step\n",
        "#     lstm_out, _ = self.lstm(embeds)\n",
        "\n",
        "#     ## Reshaping the outputs from the lstm layer\n",
        "#     lstm_out = lstm_out.view(len(sentence), self.hidden_dim*2)\n",
        "\n",
        "#     ## Dropout on the lstm output\n",
        "#     lstm_out = self.dropout(lstm_out)\n",
        "\n",
        "#     ## Linear layer converts the ouput vectors to tag space\n",
        "#     lstm_feats = self.hidden2tag(lstm_out)\n",
        "    \n",
        "#     return lstm_feats"
      ],
      "execution_count": null,
      "outputs": []
    },
    {
      "cell_type": "code",
      "metadata": {
        "id": "I-PBR2wfa6zT"
      },
      "source": [
        "#Implement CNN here\n",
        "def get_cnn_features(self, sentence, chars2, chars2_length, d):\n",
        "    activation_fn = nn.ReLU()\n",
        "    \n",
        "    chars_embeds = self.char_embeds(chars2).unsqueeze(1)\n",
        "    ## Creating Character level representation using Convolutional Neural Netowrk\n",
        "    ## followed by a Maxpooling Layer\n",
        "    chars_cnn_out3 = self.char_cnn3(chars_embeds)\n",
        "    chars_cnn_out3 = activation_fn(chars_cnn_out3)\n",
        "    chars_embeds = nn.functional.max_pool2d(chars_cnn_out3,\n",
        "                                          kernel_size=(chars_cnn_out3.size(2), 1)).view(chars_cnn_out3.size(0), self.out_channels)\n",
        "\n",
        "        ## Loading word embeddings\n",
        "    embeds = self.word_embeds(sentence)\n",
        "\n",
        "\n",
        "    ## We concatenate the word embeddings and the character level representation\n",
        "    ## to create unified representation for each word\n",
        "    embeds = torch.cat((embeds, chars_embeds), 1)\n",
        "\n",
        "\n",
        "    ## Dropout on the unified embeddings\n",
        "    embeds = self.dropout(embeds)\n",
        "\n",
        "\n",
        "    embeds_size = embeds.shape\n",
        "    cnn_out = embeds\n",
        "\n",
        "    # Adjust shape of embeds output to fit cnn\n",
        "    cnn_out = cnn_out.unsqueeze(0).unsqueeze(0)\n",
        "    # Send embeds output thru first layer of CNN and pass it through activation\n",
        "    cnn_out = self.word_cnn3(cnn_out)\n",
        "    cnn_out = activation_fn(cnn_out)\n",
        "    cnn_out = cnn_out.permute(0,3,2,1)\n",
        "\n",
        "\n",
        "    for i in range(1, WORD_CNN_LAYERS):\n",
        "      # Send output through 1 cnn layer and pass it through activation\n",
        "      cnn_out = self.word_cnns[i-1](cnn_out)\n",
        "      cnn_out = activation_fn(cnn_out)\n",
        "      cnn_out = cnn_out.permute(0,3,2,1)\n",
        "\n",
        "    # Reshape output to fit output layer\n",
        "    cnn_out = cnn_out.unsqueeze(0).unsqueeze(0)\n",
        "    cnn_out = cnn_out.view(len(sentence), self.hidden_dim*2)\n",
        "    cnn_out = self.dropout(cnn_out)\n",
        "    #print(cnn_out.shape)\n",
        "    cnn_feats = self.hidden2tag(cnn_out)\n",
        "\n",
        "    \n",
        "    return cnn_feats"
      ],
      "execution_count": 42,
      "outputs": []
    },
    {
      "cell_type": "markdown",
      "metadata": {
        "id": "5sydhskv1Gez"
      },
      "source": [
        "##### Funtion for Negative log likelihood calculation"
      ]
    },
    {
      "cell_type": "markdown",
      "metadata": {
        "id": "pCbCvRbZ1Gez"
      },
      "source": [
        "This is a helper function that calculates the negative log likelihood. \n",
        "\n",
        "The functions takes as input the previously calulcated lstm features to use to calculate the sentence score and then perform a forward run score and compare it with our predicted score to generate a log likelihood. \n",
        "\n",
        "`Implementation detail: Notice we do not pump out any log conversion in this function that is supposedly about log likelihood calculation, this is because we have ensured that we get the scores from our helper functions in the log domain.`"
      ]
    },
    {
      "cell_type": "code",
      "metadata": {
        "id": "TR6LlgLU1Ge0"
      },
      "source": [
        "def get_neg_log_likelihood(self, sentence, tags, chars2, chars2_length, d):\n",
        "    # sentence, tags is a list of ints\n",
        "    # features is a 2D tensor, len(sentence) * self.tagset_size\n",
        "    feats = self._get_cnn_features(sentence, chars2, chars2_length, d)\n",
        "\n",
        "    if self.use_crf:\n",
        "        forward_score = self._forward_alg(feats)\n",
        "        gold_score = self._score_sentence(feats, tags)\n",
        "        return forward_score - gold_score\n",
        "    else:\n",
        "        tags = Variable(tags)\n",
        "        scores = nn.functional.cross_entropy(feats, tags)\n",
        "        return scores"
      ],
      "execution_count": 43,
      "outputs": []
    },
    {
      "cell_type": "markdown",
      "metadata": {
        "id": "XGGLxZhO1Ge4"
      },
      "source": [
        "##### Main Model Class"
      ]
    },
    {
      "cell_type": "code",
      "metadata": {
        "id": "gBHJmYw71Ge4",
        "cellView": "form"
      },
      "source": [
        "#@title\n",
        "# class BiLSTM_CRF(nn.Module):\n",
        "\n",
        "#     def __init__(self, vocab_size, tag_to_ix, embedding_dim, hidden_dim,\n",
        "#                  char_to_ix=None, pre_word_embeds=None, char_out_dimension=25,char_embedding_dim=25, use_gpu=False\n",
        "#                  , use_crf=True, char_mode='CNN'):\n",
        "#         '''\n",
        "#         Input parameters:\n",
        "                \n",
        "#                 vocab_size= Size of vocabulary (int)\n",
        "#                 tag_to_ix = Dictionary that maps NER tags to indices\n",
        "#                 embedding_dim = Dimension of word embeddings (int)\n",
        "#                 hidden_dim = The hidden dimension of the LSTM layer (int)\n",
        "#                 char_to_ix = Dictionary that maps characters to indices\n",
        "#                 pre_word_embeds = Numpy array which provides mapping from word embeddings to word indices\n",
        "#                 char_out_dimension = Output dimension from the CNN encoder for character\n",
        "#                 char_embedding_dim = Dimension of the character embeddings\n",
        "#                 use_gpu = defines availability of GPU, \n",
        "#                     when True: CUDA function calls are made\n",
        "#                     else: Normal CPU function calls are made\n",
        "#                 use_crf = parameter which decides if you want to use the CRF layer for output decoding\n",
        "#         '''\n",
        "        \n",
        "#         super(BiLSTM_CRF, self).__init__()\n",
        "        \n",
        "#         #parameter initialization for the model\n",
        "#         self.use_gpu = use_gpu\n",
        "#         self.embedding_dim = embedding_dim\n",
        "#         self.hidden_dim = hidden_dim\n",
        "#         self.vocab_size = vocab_size\n",
        "#         self.tag_to_ix = tag_to_ix\n",
        "#         self.use_crf = use_crf\n",
        "#         self.tagset_size = len(tag_to_ix)\n",
        "#         self.out_channels = char_out_dimension\n",
        "#         self.char_mode = char_mode\n",
        "\n",
        "#         if char_embedding_dim is not None:\n",
        "#             self.char_embedding_dim = char_embedding_dim\n",
        "            \n",
        "#             #Initializing the character embedding layer\n",
        "#             self.char_embeds = nn.Embedding(len(char_to_ix), char_embedding_dim)\n",
        "#             init_embedding(self.char_embeds.weight)\n",
        "            \n",
        "#             #Performing LSTM encoding on the character embeddings\n",
        "#             if self.char_mode == 'LSTM':\n",
        "#                 self.char_lstm = nn.LSTM(char_embedding_dim, char_lstm_dim, num_layers=1, bidirectional=True)\n",
        "#                 init_lstm(self.char_lstm)\n",
        "                \n",
        "#             #Performing CNN encoding on the character embeddings\n",
        "#             if self.char_mode == 'CNN':\n",
        "#                 self.char_cnn3 = nn.Conv2d(in_channels=1, out_channels=self.out_channels, kernel_size=(3, char_embedding_dim), padding=(2,0))\n",
        "\n",
        "#         #Creating Embedding layer with dimension of ( number of words * dimension of each word)\n",
        "#         self.word_embeds = nn.Embedding(vocab_size, embedding_dim)\n",
        "#         if pre_word_embeds is not None:\n",
        "#             #Initializes the word embeddings with pretrained word embeddings\n",
        "#             self.pre_word_embeds = True\n",
        "#             self.word_embeds.weight = nn.Parameter(torch.FloatTensor(pre_word_embeds))\n",
        "#         else:\n",
        "#             self.pre_word_embeds = False\n",
        "    \n",
        "#         #Initializing the dropout layer, with dropout specificed in parameters\n",
        "#         self.dropout = nn.Dropout(parameters['dropout'])\n",
        "        \n",
        "#         #Lstm Layer:\n",
        "#         #input dimension: word embedding dimension + character level representation\n",
        "#         #bidirectional=True, specifies that we are using the bidirectional LSTM\n",
        "#         if self.char_mode == 'LSTM':\n",
        "#             self.lstm = nn.LSTM(embedding_dim+char_lstm_dim*2, hidden_dim, bidirectional=True)\n",
        "#         if self.char_mode == 'CNN':\n",
        "#             self.lstm = nn.LSTM(embedding_dim+self.out_channels, hidden_dim, bidirectional=True)\n",
        "        \n",
        "#         #Initializing the lstm layer using predefined function for initialization\n",
        "#         init_lstm(self.lstm)\n",
        "        \n",
        "#         # Linear layer which maps the output of the bidirectional LSTM into tag space.\n",
        "#         self.hidden2tag = nn.Linear(hidden_dim*2, self.tagset_size)\n",
        "        \n",
        "#         #Initializing the linear layer using predefined function for initialization\n",
        "#         init_linear(self.hidden2tag) \n",
        "\n",
        "#         if self.use_crf:\n",
        "#             # Matrix of transition parameters.  Entry i,j is the score of transitioning *to* i *from* j.\n",
        "#             # Matrix has a dimension of (total number of tags * total number of tags)\n",
        "#             self.transitions = nn.Parameter(\n",
        "#                 torch.zeros(self.tagset_size, self.tagset_size))\n",
        "            \n",
        "#             # These two statements enforce the constraint that we never transfer\n",
        "#             # to the start tag and we never transfer from the stop tag\n",
        "#             self.transitions.data[tag_to_ix[START_TAG], :] = -10000\n",
        "#             self.transitions.data[:, tag_to_ix[STOP_TAG]] = -10000\n",
        "\n",
        "#     #assigning the functions, which we have defined earlier\n",
        "#     _score_sentence = score_sentences\n",
        "#     _get_lstm_features = get_lstm_features\n",
        "#     _forward_alg = forward_alg\n",
        "#     viterbi_decode = viterbi_algo\n",
        "#     neg_log_likelihood = get_neg_log_likelihood\n",
        "#     forward = forward_calc"
      ],
      "execution_count": 44,
      "outputs": []
    },
    {
      "cell_type": "code",
      "metadata": {
        "id": "__QIFN-ka0uX"
      },
      "source": [
        "# IMPLEMENT CNN ON THIS\n",
        "\n",
        "\n",
        "class CNN_CRF(nn.Module):\n",
        "\n",
        "    def __init__(self, vocab_size, tag_to_ix, embedding_dim, hidden_dim,\n",
        "                 char_to_ix=None, pre_word_embeds=None, char_out_dimension=25,char_embedding_dim=25, use_gpu=False\n",
        "                 , use_crf=True):\n",
        "        '''\n",
        "        Input parameters:\n",
        "                \n",
        "                vocab_size= Size of vocabulary (int)\n",
        "                tag_to_ix = Dictionary that maps NER tags to indices\n",
        "                embedding_dim = Dimension of word embeddings (int)\n",
        "                hidden_dim = The hidden dimension of the LSTM layer (int)\n",
        "                char_to_ix = Dictionary that maps characters to indices\n",
        "                pre_word_embeds = Numpy array which provides mapping from word embeddings to word indices\n",
        "                char_out_dimension = Output dimension from the CNN encoder for character\n",
        "                char_embedding_dim = Dimension of the character embeddings\n",
        "                use_gpu = defines availability of GPU, \n",
        "                    when True: CUDA function calls are made\n",
        "                    else: Normal CPU function calls are made\n",
        "                use_crf = parameter which decides if you want to use the CRF layer for output decoding\n",
        "        '''\n",
        "        \n",
        "        super(CNN_CRF, self).__init__()\n",
        "        \n",
        "        #parameter initialization for the model\n",
        "        self.use_gpu = use_gpu\n",
        "        self.embedding_dim = embedding_dim\n",
        "        self.hidden_dim = hidden_dim\n",
        "        self.vocab_size = vocab_size\n",
        "        self.tag_to_ix = tag_to_ix\n",
        "        self.use_crf = use_crf\n",
        "        self.tagset_size = len(tag_to_ix)\n",
        "        self.out_channels = char_out_dimension\n",
        "\n",
        "        if char_embedding_dim is not None:\n",
        "            self.char_embedding_dim = char_embedding_dim\n",
        "            \n",
        "            #Initializing the character embedding layer\n",
        "            self.char_embeds = nn.Embedding(len(char_to_ix), char_embedding_dim)\n",
        "            init_embedding(self.char_embeds.weight)\n",
        "            \n",
        "            #Performing CNN encoding on the character embeddings\n",
        "            self.char_cnn3 = nn.Conv2d(in_channels=1, out_channels=self.out_channels, kernel_size=(3, char_embedding_dim), padding=(2,0))\n",
        "\n",
        "        #Creating Embedding layer with dimension of ( number of words * dimension of each word)\n",
        "        self.word_embeds = nn.Embedding(vocab_size, embedding_dim)\n",
        "        if pre_word_embeds is not None:\n",
        "            #Initializes the word embeddings with pretrained word embeddings\n",
        "            self.pre_word_embeds = True\n",
        "            self.word_embeds.weight = nn.Parameter(torch.FloatTensor(pre_word_embeds))\n",
        "        else:\n",
        "            self.pre_word_embeds = False\n",
        "    \n",
        "        #Initializing the dropout layer, with dropout specificed in parameters\n",
        "        self.dropout = nn.Dropout(parameters['dropout'])\n",
        "\n",
        "        # Initialize word CNN layer\n",
        "        self.word_cnn3 = nn.Conv2d(in_channels=1, out_channels=hidden_dim*2, kernel_size=(3, embedding_dim+self.out_channels), padding=(1,0))\n",
        "        # If more than 1 CNN Layers, initialize all additional CNN layers\n",
        "        if WORD_CNN_LAYERS > 1:\n",
        "            self.word_cnns = [nn.Conv2d(in_channels=1, out_channels=hidden_dim*2, kernel_size=(3,hidden_dim*2), padding=(1,0)).cuda() for i in range(1, WORD_CNN_LAYERS)]\n",
        "\n",
        "        \n",
        "        # Linear layer which maps the output of the bidirectional LSTM into tag space.\n",
        "        self.hidden2tag = nn.Linear(hidden_dim*2, self.tagset_size)\n",
        "        \n",
        "        #Initializing the linear layer using predefined function for initialization\n",
        "        init_linear(self.hidden2tag) \n",
        "\n",
        "        if self.use_crf:\n",
        "            # Matrix of transition parameters.  Entry i,j is the score of transitioning *to* i *from* j.\n",
        "            # Matrix has a dimension of (total number of tags * total number of tags)\n",
        "            self.transitions = nn.Parameter(\n",
        "                torch.zeros(self.tagset_size, self.tagset_size))\n",
        "            \n",
        "            # These two statements enforce the constraint that we never transfer\n",
        "            # to the start tag and we never transfer from the stop tag\n",
        "            self.transitions.data[tag_to_ix[START_TAG], :] = -10000\n",
        "            self.transitions.data[:, tag_to_ix[STOP_TAG]] = -10000\n",
        "\n",
        "    #assigning the functions, which we have defined earlier\n",
        "    _score_sentence = score_sentences\n",
        "    _get_cnn_features = get_cnn_features\n",
        "    _forward_alg = forward_alg\n",
        "    viterbi_decode = viterbi_algo\n",
        "    neg_log_likelihood = get_neg_log_likelihood\n",
        "    forward = forward_calc"
      ],
      "execution_count": 45,
      "outputs": []
    },
    {
      "cell_type": "code",
      "metadata": {
        "id": "OsHVq_pg1Ge7",
        "colab": {
          "base_uri": "https://localhost:8080/"
        },
        "outputId": "5b246188-f4f3-484f-ec9d-45905504d2ac"
      },
      "source": [
        "#creating the model using the Class defined above\n",
        "model = CNN_CRF(vocab_size=len(word_to_id),\n",
        "                   tag_to_ix=tag_to_id,\n",
        "                   embedding_dim=parameters['word_dim'],\n",
        "                   hidden_dim=parameters['word_lstm_dim'],\n",
        "                   use_gpu=use_gpu,\n",
        "                   char_to_ix=char_to_id,\n",
        "                   pre_word_embeds=word_embeds,\n",
        "                   use_crf=parameters['crf'])\n",
        "print(\"Model Initialized!!!\")"
      ],
      "execution_count": 46,
      "outputs": [
        {
          "output_type": "stream",
          "text": [
            "Model Initialized!!!\n"
          ],
          "name": "stdout"
        },
        {
          "output_type": "stream",
          "text": [
            "/usr/local/lib/python3.6/dist-packages/ipykernel_launcher.py:6: UserWarning: nn.init.uniform is now deprecated in favor of nn.init.uniform_.\n",
            "  \n"
          ],
          "name": "stderr"
        }
      ]
    },
    {
      "cell_type": "code",
      "metadata": {
        "id": "AbXBdoht1Ge_"
      },
      "source": [
        "#Reload a saved model, if parameter[\"reload\"] is set to a path\n",
        "if parameters['reload']:\n",
        "    if not os.path.exists(parameters['reload']):\n",
        "        print(\"downloading pre-trained model\")\n",
        "        model_url=\"https://github.com/TheAnig/NER-LSTM-CNN-Pytorch/raw/master/trained-model-cpu\"\n",
        "        urllib.request.urlretrieve(model_url, parameters['reload'])\n",
        "    model.load_state_dict(torch.load(parameters['reload']))\n",
        "    print(\"model reloaded :\", parameters['reload'])\n",
        "\n",
        "if use_gpu:\n",
        "    model.cuda()"
      ],
      "execution_count": 47,
      "outputs": []
    },
    {
      "cell_type": "markdown",
      "metadata": {
        "id": "FJXP6lnD1GfB"
      },
      "source": [
        "##### Training Paramaters"
      ]
    },
    {
      "cell_type": "code",
      "metadata": {
        "id": "cpU_3ANb1GfB"
      },
      "source": [
        "#Initializing the optimizer\n",
        "#The best results in the paper where achived using stochastic gradient descent (SGD) \n",
        "#learning rate=0.015 and momentum=0.9 \n",
        "#decay_rate=0.05 \n",
        "\n",
        "#learning_rate = 0.0015\n",
        "learning_rate = 0.0015\n",
        "momentum = 0.9\n",
        "number_of_epochs = parameters['epoch'] \n",
        "decay_rate = 0.05\n",
        "gradient_clip = parameters['gradient_clip']\n",
        "optimizer = torch.optim.SGD(model.parameters(), lr=learning_rate, momentum=momentum)\n",
        "#optimizer = torch.optim.Adam(model.parameters(), lr=learning_rate, weight_decay=1e-6)\n",
        "#variables which will used in training process\n",
        "losses = [] #list to store all losses\n",
        "loss = 0.0 #Loss Initializatoin\n",
        "best_dev_F = -1.0 # Current best F-1 Score on Dev Set\n",
        "best_test_F = -1.0 # Current best F-1 Score on Test Set\n",
        "best_train_F = -1.0 # Current best F-1 Score on Train Set\n",
        "all_F = [[0, 0, 0]] # List storing all the F-1 Scores\n",
        "eval_every = len(train_data) # Calculate F-1 Score after this many iterations\n",
        "plot_every = 2000 # Store loss after this many iterations\n",
        "count = 0 #Counts the number of iterations"
      ],
      "execution_count": 48,
      "outputs": []
    },
    {
      "cell_type": "markdown",
      "metadata": {
        "id": "G_a0OKG01GfE"
      },
      "source": [
        "### Evaluation"
      ]
    },
    {
      "cell_type": "markdown",
      "metadata": {
        "id": "eqIIm8iT1GfF"
      },
      "source": [
        "##### Helper functions for evaluation"
      ]
    },
    {
      "cell_type": "code",
      "metadata": {
        "id": "D7IN4pP81GfF"
      },
      "source": [
        "def get_chunk_type(tok, idx_to_tag):\n",
        "    \"\"\"\n",
        "    The function takes in a chunk (\"B-PER\") and then splits it into the tag (PER) and its class (B)\n",
        "    as defined in BIOES\n",
        "    \n",
        "    Args:\n",
        "        tok: id of token, ex 4\n",
        "        idx_to_tag: dictionary {4: \"B-PER\", ...}\n",
        "\n",
        "    Returns:\n",
        "        tuple: \"B\", \"PER\"\n",
        "\n",
        "    \"\"\"\n",
        "    \n",
        "    tag_name = idx_to_tag[tok]\n",
        "    tag_class = tag_name.split('-')[0]\n",
        "    tag_type = tag_name.split('-')[-1]\n",
        "    return tag_class, tag_type"
      ],
      "execution_count": 49,
      "outputs": []
    },
    {
      "cell_type": "code",
      "metadata": {
        "id": "5uMeZzuO1GfJ"
      },
      "source": [
        "def get_chunks(seq, tags):\n",
        "    \"\"\"Given a sequence of tags, group entities and their position\n",
        "\n",
        "    Args:\n",
        "        seq: [4, 4, 0, 0, ...] sequence of labels\n",
        "        tags: dict[\"O\"] = 4\n",
        "\n",
        "    Returns:\n",
        "        list of (chunk_type, chunk_start, chunk_end)\n",
        "\n",
        "    Example:\n",
        "        seq = [4, 5, 0, 3]\n",
        "        tags = {\"B-PER\": 4, \"I-PER\": 5, \"B-LOC\": 3}\n",
        "        result = [(\"PER\", 0, 2), (\"LOC\", 3, 4)]\n",
        "\n",
        "    \"\"\"\n",
        "    \n",
        "    # We assume by default the tags lie outside a named entity\n",
        "    default = tags[\"O\"]\n",
        "    \n",
        "    idx_to_tag = {idx: tag for tag, idx in tags.items()}\n",
        "    \n",
        "    chunks = []\n",
        "    \n",
        "    chunk_type, chunk_start = None, None\n",
        "    for i, tok in enumerate(seq):\n",
        "        # End of a chunk 1\n",
        "        if tok == default and chunk_type is not None:\n",
        "            # Add a chunk.\n",
        "            chunk = (chunk_type, chunk_start, i)\n",
        "            chunks.append(chunk)\n",
        "            chunk_type, chunk_start = None, None\n",
        "\n",
        "        # End of a chunk + start of a chunk!\n",
        "        elif tok != default:\n",
        "            tok_chunk_class, tok_chunk_type = get_chunk_type(tok, idx_to_tag)\n",
        "            if chunk_type is None:\n",
        "                # Initialize chunk for each entity\n",
        "                chunk_type, chunk_start = tok_chunk_type, i\n",
        "            elif tok_chunk_type != chunk_type or tok_chunk_class == \"B\":\n",
        "                # If chunk class is B, i.e., its a beginning of a new named entity\n",
        "                # or, if the chunk type is different from the previous one, then we\n",
        "                # start labelling it as a new entity\n",
        "                chunk = (chunk_type, chunk_start, i)\n",
        "                chunks.append(chunk)\n",
        "                chunk_type, chunk_start = tok_chunk_type, i\n",
        "        else:\n",
        "            pass\n",
        "\n",
        "    # end condition\n",
        "    if chunk_type is not None:\n",
        "        chunk = (chunk_type, chunk_start, len(seq))\n",
        "        chunks.append(chunk)\n",
        "\n",
        "    return chunks"
      ],
      "execution_count": 50,
      "outputs": []
    },
    {
      "cell_type": "code",
      "metadata": {
        "id": "JO_UFZEY1GfM"
      },
      "source": [
        "def evaluating(model, datas, best_F,dataset=\"Train\"):\n",
        "    '''\n",
        "    The function takes as input the model, data and calcuates F-1 Score\n",
        "    It performs conditional updates \n",
        "     1) Flag to save the model \n",
        "     2) Best F-1 score\n",
        "    ,if the F-1 score calculated improves on the previous F-1 score\n",
        "    '''\n",
        "    # Initializations\n",
        "    prediction = [] # A list that stores predicted tags\n",
        "    save = False # Flag that tells us if the model needs to be saved\n",
        "    new_F = 0.0 # Variable to store the current F1-Score (may not be the best)\n",
        "    correct_preds, total_correct, total_preds = 0., 0., 0. # Count variables\n",
        "    \n",
        "    for data in datas:\n",
        "        ground_truth_id = data['tags']\n",
        "        words = data['str_words']\n",
        "        chars2 = data['chars']\n",
        "        \n",
        "        if parameters['char_mode'] == 'LSTM':\n",
        "            chars2_sorted = sorted(chars2, key=lambda p: len(p), reverse=True)\n",
        "            d = {}\n",
        "            for i, ci in enumerate(chars2):\n",
        "                for j, cj in enumerate(chars2_sorted):\n",
        "                    if ci == cj and not j in d and not i in d.values():\n",
        "                        d[j] = i\n",
        "                        continue\n",
        "            chars2_length = [len(c) for c in chars2_sorted]\n",
        "            char_maxl = max(chars2_length)\n",
        "            chars2_mask = np.zeros((len(chars2_sorted), char_maxl), dtype='int')\n",
        "            for i, c in enumerate(chars2_sorted):\n",
        "                chars2_mask[i, :chars2_length[i]] = c\n",
        "            chars2_mask = Variable(torch.LongTensor(chars2_mask))\n",
        "        \n",
        "        \n",
        "        if parameters['char_mode'] == 'CNN':\n",
        "            d = {} \n",
        "\n",
        "            # Padding the each word to max word size of that sentence\n",
        "            chars2_length = [len(c) for c in chars2]\n",
        "            char_maxl = max(chars2_length)\n",
        "            chars2_mask = np.zeros((len(chars2_length), char_maxl), dtype='int')\n",
        "            for i, c in enumerate(chars2):\n",
        "                chars2_mask[i, :chars2_length[i]] = c\n",
        "            chars2_mask = Variable(torch.LongTensor(chars2_mask))\n",
        "\n",
        "        dwords = Variable(torch.LongTensor(data['words']))\n",
        "        \n",
        "        # We are getting the predicted output from our model\n",
        "        if use_gpu:\n",
        "            val,out = model(dwords.cuda(), chars2_mask.cuda(), chars2_length, d)\n",
        "        else:\n",
        "            val,out = model(dwords, chars2_mask, chars2_length, d)\n",
        "        predicted_id = out\n",
        "    \n",
        "        \n",
        "        # We use the get chunks function defined above to get the true chunks\n",
        "        # and the predicted chunks from true labels and predicted labels respectively\n",
        "        lab_chunks      = set(get_chunks(ground_truth_id,tag_to_id))\n",
        "        lab_pred_chunks = set(get_chunks(predicted_id,\n",
        "                                         tag_to_id))\n",
        "\n",
        "        # Updating the count variables\n",
        "        correct_preds += len(lab_chunks & lab_pred_chunks)\n",
        "        total_preds   += len(lab_pred_chunks)\n",
        "        total_correct += len(lab_chunks)\n",
        "    \n",
        "    # Calculating the F1-Score\n",
        "    p   = correct_preds / total_preds if correct_preds > 0 else 0\n",
        "    r   = correct_preds / total_correct if correct_preds > 0 else 0\n",
        "    new_F  = 2 * p * r / (p + r) if correct_preds > 0 else 0\n",
        "\n",
        "    print(\"{}: new_F: {} best_F: {} \".format(dataset,new_F,best_F))\n",
        "    \n",
        "    # If our current F1-Score is better than the previous best, we update the best\n",
        "    # to current F1 and we set the flag to indicate that we need to checkpoint this model\n",
        "    \n",
        "    if new_F>best_F:\n",
        "        best_F=new_F\n",
        "        save=True\n",
        "\n",
        "    return best_F, new_F, save"
      ],
      "execution_count": 51,
      "outputs": []
    },
    {
      "cell_type": "markdown",
      "metadata": {
        "id": "-BcxTUiu1GfO"
      },
      "source": [
        "##### Helper function for performing Learning rate decay"
      ]
    },
    {
      "cell_type": "code",
      "metadata": {
        "id": "GNGSMEv91GfO"
      },
      "source": [
        "def adjust_learning_rate(optimizer, lr):\n",
        "    \"\"\"\n",
        "    shrink learning rate\n",
        "    \"\"\"\n",
        "    for param_group in optimizer.param_groups:\n",
        "        param_group['lr'] = lr"
      ],
      "execution_count": 52,
      "outputs": []
    },
    {
      "cell_type": "markdown",
      "metadata": {
        "id": "cTxTvvuE1GfR"
      },
      "source": [
        "### Training Step"
      ]
    },
    {
      "cell_type": "markdown",
      "metadata": {
        "id": "oEtwdd0i1GfR"
      },
      "source": [
        "If `parameters['reload']` is set, we already have a model to load of off, so we can skip the training. We have originally specified a pre-trained model since training is an expensive process, but we encourage readers to try this out once they're done with the tutorial."
      ]
    },
    {
      "cell_type": "code",
      "metadata": {
        "id": "tN2eYhj_u8de"
      },
      "source": [
        "early_stopping_patience = 5 # 5 epochs of patience"
      ],
      "execution_count": 53,
      "outputs": []
    },
    {
      "cell_type": "code",
      "metadata": {
        "id": "K31LzX5c1GfT",
        "colab": {
          "base_uri": "https://localhost:8080/"
        },
        "outputId": "233c38e6-651e-4fdf-f34d-0c4b6566582a"
      },
      "source": [
        "#parameters['reload']=False\n",
        "early_stopping_counter = 0\n",
        "\n",
        "if not parameters['reload']:\n",
        "    tr = time.time()\n",
        "    model.train(True)\n",
        "    for epoch in range(1,number_of_epochs):\n",
        "        print(\"=\"*89)\n",
        "        print(\"Epoch: {}/{}\".format(epoch, number_of_epochs))\n",
        "        print(\"=\"*89)\n",
        "        for i, index in enumerate(np.random.permutation(len(train_data))):\n",
        "            count += 1\n",
        "            data = train_data[index]\n",
        "\n",
        "            ##gradient updates for each data entry\n",
        "            model.zero_grad()\n",
        "\n",
        "            sentence_in = data['words']\n",
        "            sentence_in = Variable(torch.LongTensor(sentence_in))\n",
        "            tags = data['tags']\n",
        "            chars2 = data['chars']\n",
        "            \n",
        "            if parameters['char_mode'] == 'LSTM':\n",
        "                chars2_sorted = sorted(chars2, key=lambda p: len(p), reverse=True)\n",
        "                d = {}\n",
        "                for i, ci in enumerate(chars2):\n",
        "                    for j, cj in enumerate(chars2_sorted):\n",
        "                        if ci == cj and not j in d and not i in d.values():\n",
        "                            d[j] = i\n",
        "                            continue\n",
        "                chars2_length = [len(c) for c in chars2_sorted]\n",
        "                char_maxl = max(chars2_length)\n",
        "                chars2_mask = np.zeros((len(chars2_sorted), char_maxl), dtype='int')\n",
        "                for i, c in enumerate(chars2_sorted):\n",
        "                    chars2_mask[i, :chars2_length[i]] = c\n",
        "                chars2_mask = Variable(torch.LongTensor(chars2_mask))\n",
        "            \n",
        "            if parameters['char_mode'] == 'CNN':\n",
        "\n",
        "                d = {}\n",
        "\n",
        "                ## Padding the each word to max word size of that sentence\n",
        "                chars2_length = [len(c) for c in chars2]\n",
        "                char_maxl = max(chars2_length)\n",
        "                chars2_mask = np.zeros((len(chars2_length), char_maxl), dtype='int')\n",
        "                for i, c in enumerate(chars2):\n",
        "                    chars2_mask[i, :chars2_length[i]] = c\n",
        "                chars2_mask = Variable(torch.LongTensor(chars2_mask))\n",
        "\n",
        "\n",
        "            targets = torch.LongTensor(tags)\n",
        "\n",
        "            #we calculate the negative log-likelihood for the predicted tags using the predefined function\n",
        "            if use_gpu:\n",
        "                neg_log_likelihood = model.neg_log_likelihood(sentence_in.cuda(), targets.cuda(), chars2_mask.cuda(), chars2_length, d)\n",
        "            else:\n",
        "                neg_log_likelihood = model.neg_log_likelihood(sentence_in, targets, chars2_mask, chars2_length, d)\n",
        "            loss += neg_log_likelihood.data / len(data['words'])\n",
        "            neg_log_likelihood.backward()\n",
        "\n",
        "            #we use gradient clipping to avoid exploding gradients (Removed as not using RNNs)\n",
        "            #torch.nn.utils.clip_grad_norm_(model.parameters(), gradient_clip)\n",
        "            optimizer.step()\n",
        "\n",
        "            #Storing loss\n",
        "            if count % plot_every == 0:\n",
        "                loss /= plot_every\n",
        "                print(count, ': ', loss)\n",
        "                if losses == []:\n",
        "                    losses.append(loss)\n",
        "                losses.append(loss)\n",
        "                loss = 0.0\n",
        "\n",
        "            #Evaluating on Train, Test, Dev Sets\n",
        "            # EVALUATE EVERY EPOCH\n",
        "            # if count % (eval_every) == 0 and count > (eval_every * 20) or \\\n",
        "            #         count % (eval_every*4) == 0 and count < (eval_every * 20):\n",
        "            # model.train(False)\n",
        "            # best_train_F, new_train_F, _ = evaluating(model, train_data, best_train_F,\"Train\")\n",
        "            # best_dev_F, new_dev_F, save = evaluating(model, dev_data, best_dev_F,\"Dev\")\n",
        "            # if save:\n",
        "            #     print(\"Saving Model to \", model_name)\n",
        "            #     torch.save(model.state_dict(), model_name)\n",
        "            #     early_stopping_counter = 0\n",
        "            # else:\n",
        "            #     early_stopping_counter += 1\n",
        "            #     if early_stopping_counter == early_stopping_patience:\n",
        "            #       print(\"Early stopping as validation score did not increase for {} epochs\".format(early_stopping_patience))\n",
        "            #       break\n",
        "            # best_test_F, new_test_F, _ = evaluating(model, test_data, best_test_F,\"Test\")\n",
        "\n",
        "            # all_F.append([new_train_F, new_dev_F, new_test_F])\n",
        "            # model.train(True)\n",
        "            \n",
        "\n",
        "            #Performing decay on the learning rate\n",
        "            if count % len(train_data) == 0:\n",
        "                adjust_learning_rate(optimizer, lr=learning_rate/(1+decay_rate*count/len(train_data)))\n",
        "    \n",
        "        model.train(False)\n",
        "        best_train_F, new_train_F, _ = evaluating(model, train_data, best_train_F,\"Train\")\n",
        "        best_dev_F, new_dev_F, save = evaluating(model, dev_data, best_dev_F,\"Dev\")\n",
        "        if save:\n",
        "            print(\"Saving Model to \", model_name)\n",
        "            torch.save(model.state_dict(), model_name)\n",
        "            early_stopping_counter = 0\n",
        "        else:\n",
        "            early_stopping_counter += 1\n",
        "            if early_stopping_counter == early_stopping_patience:\n",
        "              print(\"Early stopping as validation score did not increase for {} epochs\".format(early_stopping_patience))\n",
        "              break\n",
        "        best_test_F, new_test_F, _ = evaluating(model, test_data, best_test_F,\"Test\")\n",
        "\n",
        "        all_F.append([new_train_F, new_dev_F, new_test_F])\n",
        "        model.train(True)\n",
        "\n",
        "    print(time.time() - tr)\n",
        "    plt.plot(losses)\n",
        "    plt.show()\n",
        "\n",
        "if not parameters['reload']:\n",
        "    #reload the best model saved from training\n",
        "    model.load_state_dict(torch.load(model_name))"
      ],
      "execution_count": null,
      "outputs": [
        {
          "output_type": "stream",
          "text": [
            "=========================================================================================\n",
            "Epoch: 1/50\n",
            "=========================================================================================\n",
            "2000 :  tensor(0.5457, device='cuda:0')\n",
            "4000 :  tensor(0.2549, device='cuda:0')\n",
            "6000 :  tensor(0.1927, device='cuda:0')\n",
            "8000 :  tensor(0.1851, device='cuda:0')\n"
          ],
          "name": "stdout"
        }
      ]
    },
    {
      "cell_type": "code",
      "metadata": {
        "id": "ip3J55y1TDpH",
        "colab": {
          "base_uri": "https://localhost:8080/",
          "height": 323
        },
        "outputId": "f8d5e042-f369-494c-d585-d4a53a749f9d"
      },
      "source": [
        "train_F = [i[0] for i in all_F]\n",
        "valid_F = [i[1] for i in all_F]\n",
        "plt.plot(train_F, label=\"F-1 score on Training Set\")\n",
        "plt.plot(valid_F, label=\"F-1 score on Validation Set\")\n",
        "plt.title(\"F-1 score vs Epochs\")\n",
        "plt.xlabel(\"Epochs\")\n",
        "plt.ylabel(\"F-1\")\n",
        "plt.legend()\n",
        "plt.show()"
      ],
      "execution_count": null,
      "outputs": [
        {
          "output_type": "display_data",
          "data": {
            "image/png": "[encoded data removed]",
            "text/plain": [
              "<Figure size 480x320 with 1 Axes>"
            ]
          },
          "metadata": {
            "tags": [],
            "needs_background": "light"
          }
        }
      ]
    },
    {
      "cell_type": "code",
      "metadata": {
        "id": "NgSWZIqgF1J8",
        "colab": {
          "base_uri": "https://localhost:8080/"
        },
        "outputId": "ddbe0ac4-7e5a-479a-b0ff-101231e3018c"
      },
      "source": [
        "losses"
      ],
      "execution_count": null,
      "outputs": [
        {
          "output_type": "execute_result",
          "data": {
            "text/plain": [
              "[tensor(0.5250, device='cuda:0'),\n",
              " tensor(0.5250, device='cuda:0'),\n",
              " tensor(0.2357, device='cuda:0'),\n",
              " tensor(0.2058, device='cuda:0'),\n",
              " tensor(0.1600, device='cuda:0'),\n",
              " tensor(0.1554, device='cuda:0'),\n",
              " tensor(0.1555, device='cuda:0'),\n",
              " tensor(0.1315, device='cuda:0'),\n",
              " tensor(0.1301, device='cuda:0'),\n",
              " tensor(0.1187, device='cuda:0'),\n",
              " tensor(0.1137, device='cuda:0'),\n",
              " tensor(0.1199, device='cuda:0'),\n",
              " tensor(0.0980, device='cuda:0'),\n",
              " tensor(0.1077, device='cuda:0'),\n",
              " tensor(0.1021, device='cuda:0'),\n",
              " tensor(0.0970, device='cuda:0'),\n",
              " tensor(0.0897, device='cuda:0'),\n",
              " tensor(0.0977, device='cuda:0'),\n",
              " tensor(0.0923, device='cuda:0'),\n",
              " tensor(0.0988, device='cuda:0'),\n",
              " tensor(0.0903, device='cuda:0'),\n",
              " tensor(0.0908, device='cuda:0'),\n",
              " tensor(0.0855, device='cuda:0'),\n",
              " tensor(0.0792, device='cuda:0'),\n",
              " tensor(0.0835, device='cuda:0'),\n",
              " tensor(0.0863, device='cuda:0'),\n",
              " tensor(0.0741, device='cuda:0'),\n",
              " tensor(0.0819, device='cuda:0'),\n",
              " tensor(0.0755, device='cuda:0'),\n",
              " tensor(0.0724, device='cuda:0'),\n",
              " tensor(0.0721, device='cuda:0'),\n",
              " tensor(0.0837, device='cuda:0'),\n",
              " tensor(0.0740, device='cuda:0'),\n",
              " tensor(0.0695, device='cuda:0'),\n",
              " tensor(0.0639, device='cuda:0'),\n",
              " tensor(0.0736, device='cuda:0'),\n",
              " tensor(0.0635, device='cuda:0'),\n",
              " tensor(0.0616, device='cuda:0'),\n",
              " tensor(0.0649, device='cuda:0'),\n",
              " tensor(0.0708, device='cuda:0'),\n",
              " tensor(0.0626, device='cuda:0'),\n",
              " tensor(0.0691, device='cuda:0'),\n",
              " tensor(0.0636, device='cuda:0'),\n",
              " tensor(0.0647, device='cuda:0'),\n",
              " tensor(0.0591, device='cuda:0'),\n",
              " tensor(0.0633, device='cuda:0'),\n",
              " tensor(0.0627, device='cuda:0'),\n",
              " tensor(0.0574, device='cuda:0'),\n",
              " tensor(0.0618, device='cuda:0'),\n",
              " tensor(0.0618, device='cuda:0'),\n",
              " tensor(0.0562, device='cuda:0'),\n",
              " tensor(0.0566, device='cuda:0'),\n",
              " tensor(0.0554, device='cuda:0'),\n",
              " tensor(0.0606, device='cuda:0'),\n",
              " tensor(0.0593, device='cuda:0'),\n",
              " tensor(0.0591, device='cuda:0'),\n",
              " tensor(0.0612, device='cuda:0'),\n",
              " tensor(0.0550, device='cuda:0'),\n",
              " tensor(0.0491, device='cuda:0'),\n",
              " tensor(0.0570, device='cuda:0'),\n",
              " tensor(0.0559, device='cuda:0'),\n",
              " tensor(0.0477, device='cuda:0'),\n",
              " tensor(0.0534, device='cuda:0'),\n",
              " tensor(0.0515, device='cuda:0'),\n",
              " tensor(0.0505, device='cuda:0'),\n",
              " tensor(0.0463, device='cuda:0'),\n",
              " tensor(0.0531, device='cuda:0'),\n",
              " tensor(0.0506, device='cuda:0'),\n",
              " tensor(0.0494, device='cuda:0'),\n",
              " tensor(0.0469, device='cuda:0'),\n",
              " tensor(0.0481, device='cuda:0'),\n",
              " tensor(0.0484, device='cuda:0'),\n",
              " tensor(0.0478, device='cuda:0'),\n",
              " tensor(0.0562, device='cuda:0'),\n",
              " tensor(0.0453, device='cuda:0'),\n",
              " tensor(0.0432, device='cuda:0'),\n",
              " tensor(0.0441, device='cuda:0'),\n",
              " tensor(0.0443, device='cuda:0'),\n",
              " tensor(0.0465, device='cuda:0'),\n",
              " tensor(0.0490, device='cuda:0'),\n",
              " tensor(0.0487, device='cuda:0'),\n",
              " tensor(0.0432, device='cuda:0'),\n",
              " tensor(0.0409, device='cuda:0'),\n",
              " tensor(0.0431, device='cuda:0'),\n",
              " tensor(0.0450, device='cuda:0'),\n",
              " tensor(0.0411, device='cuda:0'),\n",
              " tensor(0.0412, device='cuda:0'),\n",
              " tensor(0.0405, device='cuda:0'),\n",
              " tensor(0.0478, device='cuda:0'),\n",
              " tensor(0.0478, device='cuda:0'),\n",
              " tensor(0.0478, device='cuda:0'),\n",
              " tensor(0.0366, device='cuda:0'),\n",
              " tensor(0.0411, device='cuda:0'),\n",
              " tensor(0.0422, device='cuda:0'),\n",
              " tensor(0.0365, device='cuda:0'),\n",
              " tensor(0.0430, device='cuda:0'),\n",
              " tensor(0.0460, device='cuda:0'),\n",
              " tensor(0.0489, device='cuda:0'),\n",
              " tensor(0.0371, device='cuda:0'),\n",
              " tensor(0.0380, device='cuda:0'),\n",
              " tensor(0.0416, device='cuda:0'),\n",
              " tensor(0.0415, device='cuda:0'),\n",
              " tensor(0.0415, device='cuda:0'),\n",
              " tensor(0.0405, device='cuda:0'),\n",
              " tensor(0.0407, device='cuda:0'),\n",
              " tensor(0.0338, device='cuda:0'),\n",
              " tensor(0.0411, device='cuda:0'),\n",
              " tensor(0.0385, device='cuda:0'),\n",
              " tensor(0.0324, device='cuda:0'),\n",
              " tensor(0.0397, device='cuda:0'),\n",
              " tensor(0.0382, device='cuda:0'),\n",
              " tensor(0.0356, device='cuda:0'),\n",
              " tensor(0.0426, device='cuda:0'),\n",
              " tensor(0.0381, device='cuda:0'),\n",
              " tensor(0.0341, device='cuda:0'),\n",
              " tensor(0.0342, device='cuda:0'),\n",
              " tensor(0.0340, device='cuda:0'),\n",
              " tensor(0.0394, device='cuda:0'),\n",
              " tensor(0.0338, device='cuda:0'),\n",
              " tensor(0.0411, device='cuda:0'),\n",
              " tensor(0.0367, device='cuda:0'),\n",
              " tensor(0.0370, device='cuda:0'),\n",
              " tensor(0.0306, device='cuda:0'),\n",
              " tensor(0.0373, device='cuda:0'),\n",
              " tensor(0.0319, device='cuda:0'),\n",
              " tensor(0.0429, device='cuda:0'),\n",
              " tensor(0.0329, device='cuda:0'),\n",
              " tensor(0.0331, device='cuda:0'),\n",
              " tensor(0.0344, device='cuda:0'),\n",
              " tensor(0.0316, device='cuda:0'),\n",
              " tensor(0.0350, device='cuda:0'),\n",
              " tensor(0.0329, device='cuda:0'),\n",
              " tensor(0.0369, device='cuda:0'),\n",
              " tensor(0.0330, device='cuda:0'),\n",
              " tensor(0.0325, device='cuda:0'),\n",
              " tensor(0.0359, device='cuda:0'),\n",
              " tensor(0.0353, device='cuda:0'),\n",
              " tensor(0.0278, device='cuda:0'),\n",
              " tensor(0.0341, device='cuda:0'),\n",
              " tensor(0.0352, device='cuda:0'),\n",
              " tensor(0.0348, device='cuda:0'),\n",
              " tensor(0.0309, device='cuda:0'),\n",
              " tensor(0.0275, device='cuda:0'),\n",
              " tensor(0.0326, device='cuda:0'),\n",
              " tensor(0.0322, device='cuda:0'),\n",
              " tensor(0.0337, device='cuda:0'),\n",
              " tensor(0.0307, device='cuda:0'),\n",
              " tensor(0.0319, device='cuda:0'),\n",
              " tensor(0.0290, device='cuda:0'),\n",
              " tensor(0.0339, device='cuda:0'),\n",
              " tensor(0.0279, device='cuda:0'),\n",
              " tensor(0.0274, device='cuda:0'),\n",
              " tensor(0.0332, device='cuda:0'),\n",
              " tensor(0.0344, device='cuda:0'),\n",
              " tensor(0.0269, device='cuda:0'),\n",
              " tensor(0.0314, device='cuda:0'),\n",
              " tensor(0.0322, device='cuda:0'),\n",
              " tensor(0.0301, device='cuda:0'),\n",
              " tensor(0.0299, device='cuda:0'),\n",
              " tensor(0.0278, device='cuda:0'),\n",
              " tensor(0.0272, device='cuda:0'),\n",
              " tensor(0.0295, device='cuda:0'),\n",
              " tensor(0.0339, device='cuda:0'),\n",
              " tensor(0.0302, device='cuda:0'),\n",
              " tensor(0.0257, device='cuda:0'),\n",
              " tensor(0.0323, device='cuda:0'),\n",
              " tensor(0.0313, device='cuda:0'),\n",
              " tensor(0.0294, device='cuda:0'),\n",
              " tensor(0.0322, device='cuda:0'),\n",
              " tensor(0.0284, device='cuda:0'),\n",
              " tensor(0.0250, device='cuda:0'),\n",
              " tensor(0.0269, device='cuda:0'),\n",
              " tensor(0.0302, device='cuda:0'),\n",
              " tensor(0.0281, device='cuda:0'),\n",
              " tensor(0.0325, device='cuda:0'),\n",
              " tensor(0.0297, device='cuda:0'),\n",
              " tensor(0.0278, device='cuda:0'),\n",
              " tensor(0.0298, device='cuda:0'),\n",
              " tensor(0.0274, device='cuda:0'),\n",
              " tensor(0.0288, device='cuda:0'),\n",
              " tensor(0.0278, device='cuda:0'),\n",
              " tensor(0.0242, device='cuda:0'),\n",
              " tensor(0.0297, device='cuda:0'),\n",
              " tensor(0.0284, device='cuda:0'),\n",
              " tensor(0.0304, device='cuda:0'),\n",
              " tensor(0.0244, device='cuda:0'),\n",
              " tensor(0.0301, device='cuda:0'),\n",
              " tensor(0.0275, device='cuda:0'),\n",
              " tensor(0.0300, device='cuda:0'),\n",
              " tensor(0.0273, device='cuda:0'),\n",
              " tensor(0.0287, device='cuda:0'),\n",
              " tensor(0.0277, device='cuda:0'),\n",
              " tensor(0.0283, device='cuda:0'),\n",
              " tensor(0.0263, device='cuda:0'),\n",
              " tensor(0.0321, device='cuda:0'),\n",
              " tensor(0.0292, device='cuda:0'),\n",
              " tensor(0.0262, device='cuda:0'),\n",
              " tensor(0.0266, device='cuda:0'),\n",
              " tensor(0.0277, device='cuda:0'),\n",
              " tensor(0.0262, device='cuda:0'),\n",
              " tensor(0.0223, device='cuda:0'),\n",
              " tensor(0.0275, device='cuda:0'),\n",
              " tensor(0.0288, device='cuda:0'),\n",
              " tensor(0.0254, device='cuda:0'),\n",
              " tensor(0.0285, device='cuda:0'),\n",
              " tensor(0.0251, device='cuda:0'),\n",
              " tensor(0.0242, device='cuda:0'),\n",
              " tensor(0.0274, device='cuda:0'),\n",
              " tensor(0.0263, device='cuda:0'),\n",
              " tensor(0.0222, device='cuda:0'),\n",
              " tensor(0.0258, device='cuda:0'),\n",
              " tensor(0.0242, device='cuda:0'),\n",
              " tensor(0.0212, device='cuda:0'),\n",
              " tensor(0.0254, device='cuda:0'),\n",
              " tensor(0.0253, device='cuda:0'),\n",
              " tensor(0.0291, device='cuda:0'),\n",
              " tensor(0.0245, device='cuda:0'),\n",
              " tensor(0.0233, device='cuda:0'),\n",
              " tensor(0.0227, device='cuda:0'),\n",
              " tensor(0.0257, device='cuda:0'),\n",
              " tensor(0.0255, device='cuda:0'),\n",
              " tensor(0.0254, device='cuda:0'),\n",
              " tensor(0.0268, device='cuda:0'),\n",
              " tensor(0.0216, device='cuda:0'),\n",
              " tensor(0.0220, device='cuda:0'),\n",
              " tensor(0.0275, device='cuda:0'),\n",
              " tensor(0.0216, device='cuda:0'),\n",
              " tensor(0.0257, device='cuda:0'),\n",
              " tensor(0.0285, device='cuda:0'),\n",
              " tensor(0.0233, device='cuda:0'),\n",
              " tensor(0.0217, device='cuda:0'),\n",
              " tensor(0.0262, device='cuda:0')]"
            ]
          },
          "metadata": {
            "tags": []
          },
          "execution_count": 39
        }
      ]
    },
    {
      "cell_type": "code",
      "metadata": {
        "id": "07pxI7IKF5J1",
        "colab": {
          "base_uri": "https://localhost:8080/"
        },
        "outputId": "4a31e660-1476-4485-f358-f6a7511654f2"
      },
      "source": [
        "train_F"
      ],
      "execution_count": null,
      "outputs": [
        {
          "output_type": "execute_result",
          "data": {
            "text/plain": [
              "[0,\n",
              " 0.8860429873428529,\n",
              " 0.9087400291620207,\n",
              " 0.9284936013844083,\n",
              " 0.9376385336743394,\n",
              " 0.9425509110396569,\n",
              " 0.9499423889386762,\n",
              " 0.9573546666666667,\n",
              " 0.961061189559264,\n",
              " 0.9639576272992733,\n",
              " 0.9659231987670706,\n",
              " 0.9689867879020726,\n",
              " 0.9726729291204099,\n",
              " 0.9707302482587704,\n",
              " 0.9748992343946601,\n",
              " 0.9780669938126734,\n",
              " 0.9779305045675745,\n",
              " 0.9764502423297821,\n",
              " 0.9805578675544742,\n",
              " 0.9818554412329762,\n",
              " 0.9823491792794714,\n",
              " 0.9847899822940889,\n",
              " 0.9851497823675002,\n",
              " 0.9843803345851826,\n",
              " 0.9865101387406617,\n",
              " 0.9867240607752467,\n",
              " 0.9873844643200205,\n",
              " 0.9874949404571696,\n",
              " 0.9895697800908646,\n",
              " 0.9877396106526792,\n",
              " 0.9898640718690651,\n",
              " 0.9904022522714669,\n",
              " 0.990848]"
            ]
          },
          "metadata": {
            "tags": []
          },
          "execution_count": 40
        }
      ]
    },
    {
      "cell_type": "code",
      "metadata": {
        "id": "ADLKyclFF86x",
        "colab": {
          "base_uri": "https://localhost:8080/"
        },
        "outputId": "c859e0b7-535a-4ac1-c752-fb5fbae36a4e"
      },
      "source": [
        "valid_F"
      ],
      "execution_count": null,
      "outputs": [
        {
          "output_type": "execute_result",
          "data": {
            "text/plain": [
              "[0,\n",
              " 0.8629698297657171,\n",
              " 0.8752865268698531,\n",
              " 0.8906527062399731,\n",
              " 0.8987512656091798,\n",
              " 0.8965985240478412,\n",
              " 0.9055902719135281,\n",
              " 0.9129007826306488,\n",
              " 0.9139712108382726,\n",
              " 0.9191740412979351,\n",
              " 0.9150903384510984,\n",
              " 0.9171727395411605,\n",
              " 0.9178059071729958,\n",
              " 0.9158767772511849,\n",
              " 0.9195848451607459,\n",
              " 0.9197806832560101,\n",
              " 0.9168565881657805,\n",
              " 0.9185035047715564,\n",
              " 0.9203241053342336,\n",
              " 0.9190741679337725,\n",
              " 0.9223120997640714,\n",
              " 0.9212458850341858,\n",
              " 0.9222964403483555,\n",
              " 0.9204794867465812,\n",
              " 0.9219198918370796,\n",
              " 0.9223644324688447,\n",
              " 0.9238570100566214,\n",
              " 0.9218605433594079,\n",
              " 0.9254915197029786,\n",
              " 0.9251012145748987,\n",
              " 0.9224531170805879,\n",
              " 0.925194191151638,\n",
              " 0.9235711870138654]"
            ]
          },
          "metadata": {
            "tags": []
          },
          "execution_count": 41
        }
      ]
    },
    {
      "cell_type": "code",
      "metadata": {
        "id": "YvFyisg05wVb"
      },
      "source": [
        "train_F_1 = [0, 0.8133933816330526, 0.8546887717945423, 0.8805366223087742, 0.8743231194136963, 0.9135517579187982, 0.9104112061186783, 0.9316900653734861, 0.9276949379964073, 0.9288762754825711, 0.9322729604925603, 0.9415329078837105, 0.9466267318839018, 0.9464651473663785, 0.9463664102453908, 0.9578636032406018, 0.9525315779349847, 0.9518501911045629, 0.956975172206605, 0.9582184608151141]\n",
        "valid_F_1 = [0, 0.7518612595252694, 0.7692045357660499, 0.8103044496487121, 0.7913288685230877, 0.8297552787348705, 0.8257354206089799, 0.85489121123865, 0.8450531121060486, 0.8443354929084224, 0.8500000000000001, 0.8572661373835002, 0.861849559836137, 0.8597427596465134, 0.8565251232379141, 0.8750971083297369, 0.8601911915329463, 0.8537912274736483, 0.8646597084447512, 0.8610210005122076]"
      ],
      "execution_count": null,
      "outputs": []
    },
    {
      "cell_type": "code",
      "metadata": {
        "id": "hB0IJ3BbYhKf"
      },
      "source": [
        "train_F_2 = [0, 0.8842865692057793, 0.919256262374107, 0.926915386906028, 0.9384205780048954, 0.9436819078665178, 0.9503466929995922, 0.9581276050016031, 0.9559673326652025, 0.9636061097363257, 0.9673127112480211, 0.9712771413916909, 0.9714114909153019, 0.9727674661996197, 0.9744520094764476, 0.9766954588215172, 0.9785283268299964, 0.9801174586225306, 0.9805655219545533, 0.9802094464629193, 0.9828805915920408, 0.9850943597398443, 0.9860812107002025, 0.9862230752825761, 0.9864481294150287, 0.9868426673501646, 0.9883356434587909, 0.9881374013228078, 0.9876074483288185, 0.9896775294318375, 0.9896740058030382, 0.9906821040960361, 0.9908100385935733, 0.9917239025638838, 0.9912950714742905, 0.9925568896756167, 0.9921958292464498, 0.99283551537379, 0.9931758082402116, 0.9937941182742956, 0.9932402175071969, 0.993517017828201]\n",
        "valid_F_2 = [0, 0.8449279028585884, 0.8824378236142942, 0.8856374032963338, 0.9015376773426216, 0.8952478283086357, 0.9103577194324072, 0.9133192389006343, 0.9123485868102289, 0.9120026972353339, 0.913753702920017, 0.9191611703027228, 0.9188229325215627, 0.9173288250211328, 0.9184310417545339, 0.9150903384510984, 0.9204957423488745, 0.9205035059559009, 0.9193344032435173, 0.9157117392411511, 0.9218218898708362, 0.9208329820419863, 0.9231417495364909, 0.9224936815501263, 0.9232589587559161, 0.9214739517153749, 0.9235695626527345, 0.922998986828774, 0.9229730869821986, 0.9234788471262431, 0.9230379319084228, 0.9236345246122725, 0.9244406922752215, 0.9222184646601285, 0.9220098122145153, 0.9227004219409282, 0.9235443037974684, 0.9271959459459459, 0.922648201317345, 0.926317570425514, 0.9245713320381789, 0.9250781315989527]"
      ],
      "execution_count": null,
      "outputs": []
    },
    {
      "cell_type": "code",
      "metadata": {
        "id": "gg1FGONpFVvg"
      },
      "source": [
        "train_F_3 = [0, 0.8715468726595768, 0.9051020190606145, 0.9250085557837098, 0.9349043847788294, 0.9472424624457788, 0.9493689807597857, 0.9572100984167736, 0.9605895546299262, 0.9623883904788288, 0.9658919022561198, 0.9677928504393823, 0.972522541771719, 0.9734184512244592, 0.9741771503022276, 0.977815663292488, 0.9788377847939246, 0.980171180977994, 0.9815893333333333, 0.9816304324635702, 0.982438920302998]\n",
        "valid_F_3 = [0, 0.8492780545469898, 0.8775081857106876, 0.8879716981132075, 0.8976685036032217, 0.9061444969615124, 0.9086769542119909, 0.910442717134167, 0.9104691316432241, 0.9139685476410732, 0.9131421844782646, 0.9155308766616187, 0.9193616482310225, 0.9182984469952735, 0.9206966520121744, 0.9209928481278923, 0.9236345246122725, 0.9189097966416336, 0.9223898205106599, 0.9212346095462979, 0.921934340450671]"
      ],
      "execution_count": null,
      "outputs": []
    },
    {
      "cell_type": "code",
      "metadata": {
        "id": "sQblJZreFH9E"
      },
      "source": [
        "train_F_4 = [0, 0.8491896307123511, 0.8886210533112369, 0.910746890640775, 0.9224051630492662, 0.9341227770177839, 0.9391616306135088, 0.946321642429427, 0.9527601190093966, 0.9560580752923037, 0.9595200478244161, 0.9628412969283277, 0.9626254198489613, 0.9661784173890763, 0.9705216388259922, 0.9714713110375041, 0.9730906297347474, 0.9744576253072567, 0.9755889564012366, 0.9775232886078113, 0.9778261519089997, 0.9795264832091544, 0.9806189967982925, 0.9817366228772828, 0.9814285104384579]\n",
        "valid_F_4 = [0, 0.8253375222892078, 0.8652470187393526, 0.8858524993634899, 0.8883846024541941, 0.9016365783701704, 0.90078395009694, 0.9054247869737618, 0.9043272481406355, 0.9078758142289146, 0.9149115417017692, 0.9158752836372805, 0.9160821431589622, 0.9183364202727732, 0.9172285906945381, 0.9233493549203137, 0.9198184568835098, 0.9217919514047077, 0.9212538868812505, 0.923700202565834, 0.9251643350750042, 0.9208087615838247, 0.9216380182002022, 0.9230509333558579, 0.9243215911006237]"
      ],
      "execution_count": null,
      "outputs": []
    },
    {
      "cell_type": "code",
      "metadata": {
        "id": "vVDrHCmPuY7K"
      },
      "source": [
        "train_F_5 = [0, 0.7408704023805878, 0.8500869714604763, 0.8841698011821602, 0.9018975087130503, 0.9112641902186742, 0.9197402541737211, 0.9264620729588882, 0.933099269979234, 0.9397735072065889, 0.9426857999571643, 0.9465903978404783, 0.9500406695492103, 0.9539206029720354, 0.9582932512452168, 0.9571623814811652, 0.9596091066208633, 0.9619706875186942, 0.9627997518557341, 0.9632794309273066, 0.9677446935852766, 0.9690136032630747, 0.9694209220768112, 0.9689968826066533, 0.9709119664878497]\n",
        "valid_F_5 = [0, 0.7278882041489454, 0.8319633929328023, 0.8626918836400644, 0.8823579232658593, 0.8843261512463033, 0.8904862579281184, 0.8987298899237934, 0.8998310810810811, 0.9058455291430505, 0.9057241904117697, 0.9075061352289074, 0.9048261896726291, 0.9112256102711378, 0.9063632532659082, 0.909274532906918, 0.9150491555331485, 0.9142953359151372, 0.9148451346105158, 0.9139730639730639, 0.9185222672064779, 0.9171298635674583, 0.9179054054054056, 0.917108474291004, 0.9182485446722349]"
      ],
      "execution_count": null,
      "outputs": []
    },
    {
      "cell_type": "code",
      "metadata": {
        "id": "0xiibE2kWTf_"
      },
      "source": [
        "train_F_6 = [0,\n",
        " 0.4828034648521864,\n",
        " 0.6663171461651047,\n",
        " 0.7709579222349359,\n",
        " 0.8347558597981024,\n",
        " 0.8492322209831002,\n",
        " 0.8741750327837134,\n",
        " 0.8846776456368307,\n",
        " 0.892795055051188,\n",
        " 0.907285478370901,\n",
        " 0.907301805085109,\n",
        " 0.9122041941897004,\n",
        " 0.9229188518098337,\n",
        " 0.9249765017516876,\n",
        " 0.9285378467324871,\n",
        " 0.9301677175824646,\n",
        " 0.9357542498231474,\n",
        " 0.9398157056421439,\n",
        " 0.9399794801641588,\n",
        " 0.9436414949114854,\n",
        " 0.9465609599314335,\n",
        " 0.9482326209513194,\n",
        " 0.9517185292984635,\n",
        " 0.9523931678744737,\n",
        " 0.9541437886067262,\n",
        " 0.9548340209050297,\n",
        " 0.9556730378202521,\n",
        " 0.9575228435085917,\n",
        " 0.959075836987913,\n",
        " 0.957986430665839,\n",
        " 0.9599332220367278,\n",
        " 0.9610322911985619,\n",
        " 0.9614404693086689]\n",
        "\n",
        "valid_F_6 = [0,\n",
        " 0.5095106186518928,\n",
        " 0.6495416017989968,\n",
        " 0.7444122163453335,\n",
        " 0.8150239561943874,\n",
        " 0.8254693049213597,\n",
        " 0.8522255192878339,\n",
        " 0.861548947772003,\n",
        " 0.8629905277401894,\n",
        " 0.8783623752326172,\n",
        " 0.8803173531397704,\n",
        " 0.8812189578247327,\n",
        " 0.8934052960026986,\n",
        " 0.8913025174707417,\n",
        " 0.8954721427369129,\n",
        " 0.8926066751161809,\n",
        " 0.9010561892691171,\n",
        " 0.9035139462374653,\n",
        " 0.9008493818854596,\n",
        " 0.9044972208185953,\n",
        " 0.9033620544010813,\n",
        " 0.9064796823519473,\n",
        " 0.9107474270288509,\n",
        " 0.9129812147249601,\n",
        " 0.9104591189650798,\n",
        " 0.9139875441844808,\n",
        " 0.9101644875579924,\n",
        " 0.9148110661268556,\n",
        " 0.9148828585875611,\n",
        " 0.9130141604855024,\n",
        " 0.9143965589946867,\n",
        " 0.9143627781523939,\n",
        " 0.9136156571621393]"
      ],
      "execution_count": null,
      "outputs": []
    },
    {
      "cell_type": "code",
      "metadata": {
        "id": "K3cD34NaYlL2",
        "colab": {
          "base_uri": "https://localhost:8080/",
          "height": 323
        },
        "outputId": "0fccf612-91cb-4bf2-8a6f-a603328067ab"
      },
      "source": [
        "import matplotlib.pyplot as plt\n",
        "\n",
        "plt.plot(valid_F_1, label=\"1 Layer CNN\")\n",
        "plt.plot(valid_F_2, label=\"2 Layer CNN\")\n",
        "plt.plot(valid_F_3, label=\"3 Layer CNN\")\n",
        "plt.plot(valid_F_4, label=\"4 Layer CNN\")\n",
        "plt.plot(valid_F_5, label=\"5 Layer CNN\")\n",
        "plt.plot(valid_F_6, label=\"6 Layer CNN\")\n",
        "\n",
        "plt.title(\"F-1 Score on Validation Set vs Epochs\")\n",
        "plt.xlabel(\"Epochs\")\n",
        "plt.ylabel(\"F-1\")\n",
        "plt.legend()\n",
        "plt.show()"
      ],
      "execution_count": null,
      "outputs": [
        {
          "output_type": "display_data",
          "data": {
            "image/png": "[encoded data removed]",
            "text/plain": [
              "<Figure size 480x320 with 1 Axes>"
            ]
          },
          "metadata": {
            "tags": [],
            "needs_background": "light"
          }
        }
      ]
    },
    {
      "cell_type": "code",
      "metadata": {
        "id": "3gSAdAQP-MMN",
        "colab": {
          "base_uri": "https://localhost:8080/",
          "height": 323
        },
        "outputId": "2fb8acd6-9fc0-4a37-c230-f96fc55e9de3"
      },
      "source": [
        "max_F = [max(i)*100 for i in [valid_F_1,valid_F_2,valid_F_3,valid_F_4,valid_F_5,valid_F_6]]\n",
        "\n",
        "plt.bar(range(1,7),max_F,log=True)\n",
        "\n",
        "\n",
        "\n",
        "plt.title(\"Validation F-1 Score\")\n",
        "plt.xlabel(\"CNN Layers\")\n",
        "plt.ylabel(\"F-1 Score\")\n",
        "# Text on the top of each barplot\n",
        "for i in range(len(max_F)):\n",
        "  plt.text(x = range(1,7)[i]-0.25 , y = max_F[i]+0.1, s = \"{:.2f}%\".format(max_F[i]))\n",
        " \n",
        "\n",
        "\n",
        "plt.show()"
      ],
      "execution_count": null,
      "outputs": [
        {
          "output_type": "display_data",
          "data": {
            "image/png": "[encoded data removed]",
            "text/plain": [
              "<Figure size 480x320 with 1 Axes>"
            ]
          },
          "metadata": {
            "tags": [],
            "needs_background": "light"
          }
        }
      ]
    },
    {
      "cell_type": "markdown",
      "metadata": {
        "id": "M4KsNotq1GfV"
      },
      "source": [
        "### Model Testing\n",
        "\n",
        "This is where we provide our readers with some fun, they can try out how the trained model functions on the sentences that you throw at it. Feel free to play around.\n",
        "\n",
        "\n",
        "##### LIVE: PRODUCTION!"
      ]
    },
    {
      "cell_type": "code",
      "metadata": {
        "id": "wOMcWb_z1GfW",
        "colab": {
          "base_uri": "https://localhost:8080/"
        },
        "outputId": "2ad9711b-a74b-46ae-e5c0-5d79f16bc23a"
      },
      "source": [
        "model_testing_sentences = ['George goes to Facebook for work', 'George was born in Scotland and raised in England']\n",
        "\n",
        "#parameters\n",
        "lower=parameters['lower']\n",
        "\n",
        "#preprocessing\n",
        "final_test_data = []\n",
        "for sentence in model_testing_sentences:\n",
        "    s=sentence.split()\n",
        "    str_words = [w for w in s]\n",
        "    words = [word_to_id[lower_case(w,lower) if lower_case(w,lower) in word_to_id else '<UNK>'] for w in str_words]\n",
        "    \n",
        "    # Skip characters that are not in the training set\n",
        "    chars = [[char_to_id[c] for c in w if c in char_to_id] for w in str_words]\n",
        "    \n",
        "    final_test_data.append({\n",
        "        'str_words': str_words,\n",
        "        'words': words,\n",
        "        'chars': chars,\n",
        "    })\n",
        "\n",
        "#prediction\n",
        "predictions = []\n",
        "print(\"Prediction:\")\n",
        "print(\"word : tag\")\n",
        "for data in final_test_data:\n",
        "    words = data['str_words']\n",
        "    chars2 = data['chars']\n",
        "\n",
        "    d = {} \n",
        "    \n",
        "    # Padding the each word to max word size of that sentence\n",
        "    chars2_length = [len(c) for c in chars2]\n",
        "    char_maxl = max(chars2_length)\n",
        "    chars2_mask = np.zeros((len(chars2_length), char_maxl), dtype='int')\n",
        "    for i, c in enumerate(chars2):\n",
        "        chars2_mask[i, :chars2_length[i]] = c\n",
        "    chars2_mask = Variable(torch.LongTensor(chars2_mask))\n",
        "\n",
        "    dwords = Variable(torch.LongTensor(data['words']))\n",
        "\n",
        "    # We are getting the predicted output from our model\n",
        "    if use_gpu:\n",
        "        val,predicted_id = model(dwords.cuda(), chars2_mask.cuda(), chars2_length, d)\n",
        "    else:\n",
        "        val,predicted_id = model(dwords, chars2_mask, chars2_length, d)\n",
        "\n",
        "    pred_chunks = get_chunks(predicted_id,tag_to_id)\n",
        "    temp_list_tags=['NA']*len(words)\n",
        "    for p in pred_chunks:\n",
        "        temp_list_tags[p[1]]=p[0]\n",
        "        \n",
        "    for word,tag in zip(words,temp_list_tags):\n",
        "        print(word,':',tag)\n",
        "    print('\\n')"
      ],
      "execution_count": null,
      "outputs": [
        {
          "output_type": "stream",
          "text": [
            "Prediction:\n",
            "word : tag\n",
            "George : PER\n",
            "goes : NA\n",
            "to : NA\n",
            "Facebook : ORG\n",
            "for : NA\n",
            "work : NA\n",
            "\n",
            "\n",
            "George : PER\n",
            "was : NA\n",
            "born : NA\n",
            "in : NA\n",
            "Scotland : LOC\n",
            "and : NA\n",
            "raised : NA\n",
            "in : NA\n",
            "England : LOC\n",
            "\n",
            "\n"
          ],
          "name": "stdout"
        }
      ]
    },
    {
      "cell_type": "markdown",
      "metadata": {
        "id": "XQq87n-x1Gfa"
      },
      "source": [
        "### References"
      ]
    },
    {
      "cell_type": "markdown",
      "metadata": {
        "id": "fCxnHerc1Gfb"
      },
      "source": [
        "1) Xuezhe Ma and Eduard Hovy. 2016. ** End-to-end Sequence Labeling via Bi-directional LSTM-CNNs-CRF .** In Proceedings of the 54th Annual Meeting of the Association for Computational Linguistics (Volume 1: LongPapers). Association for Computational Linguistics, Berlin, Germany ** (https://arxiv.org/pdf/1603.01354.pdf) **\n",
        "\n",
        "2) Official PyTorch Tutorial : [** Advanced: Making Dynamic Decisions and the Bi-LSTM CRF **](http://pytorch.org/tutorials/beginner/nlp/advanced_tutorial.html#sphx-glr-beginner-nlp-advanced-tutorial-py)\n",
        "\n",
        "3) [** Sequence Tagging with Tensorflow **](https://guillaumegenthial.github.io/sequence-tagging-with-tensorflow.html)  using bi-LSTM + CRF with character embeddings for NER and POS by Guillaume Genthial\n",
        "\n",
        "4) Github Repository - [** Reference Github Repository **](https://github.com/jayavardhanr/End-to-end-Sequence-Labeling-via-Bi-directional-LSTM-CNNs-CRF-Tutorial)\n"
      ]
    },
    {
      "cell_type": "code",
      "metadata": {
        "id": "ERBaEiq4R2bM"
      },
      "source": [
        ""
      ],
      "execution_count": null,
      "outputs": []
    }
  ]
}